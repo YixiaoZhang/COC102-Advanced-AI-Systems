{
 "cells": [
  {
   "cell_type": "markdown",
   "metadata": {},
   "source": [
    "# 18COC102 -  Advanced Artificial Intelligence Systems - Coursework"
   ]
  },
  {
   "cell_type": "markdown",
   "metadata": {},
   "source": [
    "<hr>\n",
    "Student Name:  Yixiao Zhang<br>\n",
    "Student ID:    B810056<br>"
   ]
  },
  {
   "cell_type": "markdown",
   "metadata": {},
   "source": [
    "\n",
    "<b>Environment</b> <br>\n",
    "Hardware<br>\n",
    "&nbsp;&nbsp;&nbsp;&nbsp;&nbsp;Intel® Xeon(R) CPU X5550 @ 2.67GHz × 16 <br>\n",
    "&nbsp;&nbsp;&nbsp;&nbsp;&nbsp;GeForce GTX 1080 Ti<br>\n",
    "&nbsp;&nbsp;&nbsp;&nbsp;&nbsp;24GB DDR4 Memory<br>\n",
    "Software<br>\n",
    "&nbsp;&nbsp;&nbsp;&nbsp;&nbsp;Ubuntu 16.04.5 LTS 64-bit<br>\n",
    "&nbsp;&nbsp;&nbsp;&nbsp;&nbsp;conda 4.5.4<br>\n",
    "&nbsp;&nbsp;&nbsp;&nbsp;&nbsp;python3.6.7<br>\n",
    "&nbsp;&nbsp;&nbsp;&nbsp;&nbsp;pytorch 0.4.0<br>\n",
    "<br>"
   ]
  },
  {
   "cell_type": "markdown",
   "metadata": {},
   "source": [
    "<b>Dataset</b> <br>\n",
    "&nbsp;&nbsp;&nbsp;&nbsp;&nbsp;CIFAR-10"
   ]
  },
  {
   "cell_type": "markdown",
   "metadata": {},
   "source": [
    "<b>Experiment and Result</b>\n",
    "\n",
    "<table align=\"left\" width=90% class=\"table-bordered\">\n",
    "<thead><tr align=\"center\"><th >Group</th><th >Experiment No.</th><th>Network</th><th>Learning Rate</th><th>Batch Size</th><th>optimizer</th><th>Epoch</th><th>Time Cost<br>(sec)</th><th>Training Accuracy</th><th>Testing Sccuracy</th><th>Link</th></tr></thead>\n",
    "<tbody>\n",
    "    \n",
    "<tr><td rowspan=3 >A</td><td>A1</td><td rowspan=3 >AlexNet</td><td>0.0001</td><td rowspan=3 >200</td><td rowspan=3 >Adam</td><td rowspan=3 >150</td><td>1948</td><td>99.352%</td><td>99.752%</td><td><a href='Expirement/Expirement-A1.ipynb'>Open</a></td></tr>\n",
    "<tr><td>A2</td><td>0.001</td><td>1869</td><td>99.192%</td><td>99.452%</td><td><a href='Expirement/Expirement-A2.ipynb'>Open</a></td></tr>\n",
    "<tr><td>A3</td><td>0.01</td><td>2057</td><td>43.726%</td><td>44.312%</td><td><a href='Expirement/Expirement-A3.ipynb'>Open</a></td></tr>\n",
    "    \n",
    "<tr><td rowspan=3 >B</td><td>B1</td><td rowspan=3 >LeNet</td><td rowspan=3 >0.001</td><td>100</td><td rowspan=3 >Adam</td><td rowspan=3 >800</td><td>8768</td><td>97.112%</td><td>98.428%</td><td><a href='Expirement/Expirement-B1.ipynb'>Open</a></td></tr>\n",
    "<tr><td>B2</td><td>1000</td><td>4412</td><td>99.532%</td><td>99.658%</td><td><a href='Expirement/Expirement-B2.ipynb'>Open</a></td></tr>\n",
    "<tr><td>B3</td><td>10000</td><td>5515</td><td>69.690%</td><td>69.942%</td><td><a href='Expirement/Expirement-B3.ipynb'>Open</a></td></tr>\n",
    "\n",
    "<tr><td rowspan=4 >C</td><td>C1</td><td rowspan=4 >VGG16</td><td  rowspan=4 >0.001</td><td rowspan=4 >200</td><td >Adam</td><td rowspan=4 >200</td><td>5745</td><td>99.378%</td><td>99.652%</td><td><a href='Expirement/Expirement-C1.ipynb'>Open</a></td></tr>\n",
    "<tr><td>C2</td><td >SGD</td><td>5431</td><td>99.992%</td><td>99.994%</td><td><a href='Expirement/Expirement-C2.ipynb'>Open</a></td></tr>  \n",
    "<tr><td>C3</td><td >Adagrad</td><td>2851</td><td>99.994%</td><td>99.988%</td><td><a href='Expirement/Expirement-C3.ipynb'>Open</a></td></tr>  \n",
    "<tr><td>C4</td><td >RMSprop</td><td>2860</td><td>99.400%</td><td>99.110%</td><td><a href='Expirement/Expirement-C4.ipynb'>Open</a></td></tr>  \n",
    "\n",
    "<tr><td rowspan=3 >D</td><td>D1</td><td>LeNet</td><td rowspan=3 >0.001</td><td rowspan=3>100</td><td rowspan=3 >Adam</td><td rowspan=3 >200</td><td>2439</td><td>93.066%</td><td>93.394%</td><td><a href='Expirement/Expirement-D1.ipynb'>Open</a></td></tr>\n",
    "<tr><td>D2</td><td>LeNet*</td><td>2061</td><td>97.652%</td><td>98.072%</td><td><a href='Expirement/Expirement-D2.ipynb'>Open</a></td></tr>\n",
    "<tr><td>D3</td><td>LeNet**</td><td>2620</td><td>81.452%</td><td>83.046%</td><td><a href='Expirement/Expirement-D3.ipynb'>Open</a></td></tr>\n",
    "</tbody></table>\n",
    "<br><br><br><br><br><br><br><br><br><br><br><br><br><br><br><br><br><br><br><br><br>\n",
    "\n",
    "D1:LeNet<br>\n",
    "<img src=\"Expirement/images/D1.jpg\" width=\"60%\" align=\"left\"/><br><br><br><br><br><br><br><br><br><br><br><br>\n",
    "D2:Base on Lenet, remove a pool and add a conv and a fc layer<br>\n",
    "<img src=\"Expirement/images/D2.jpg\" width=\"80%\" align=\"left\"/><br><br><br><br><br><br><br><br><br><br><br><br><br><br><br><br><br><br>\n",
    "D3:Base on Lenet, remove a pool add two conv layer<br>\n",
    "<img src=\"Expirement/images/D3.jpg\" width=\"80%\" align=\"left\"/><br>\n"
   ]
  },
  {
   "cell_type": "markdown",
   "metadata": {},
   "source": [
    "<b>Visualization of the Training Process (Tensorboard Result)</b> <br>\n",
    "<br><img src=\"Expirement/images/A.jpg\" width=\"60%\" align=\"left\"/><br>\n",
    "<img src=\"Expirement/images/B.jpg\" width=\"60%\" align=\"left\"/><br>\n",
    "<img src=\"Expirement/images/C.jpg\" width=\"60%\" align=\"left\"/><br>\n",
    "<img src=\"Expirement/images/D.jpg\" width=\"60%\" align=\"left\"/><br>"
   ]
  },
  {
   "cell_type": "code",
   "execution_count": null,
   "metadata": {},
   "outputs": [],
   "source": []
  }
 ],
 "metadata": {
  "kernelspec": {
   "display_name": "Python 3",
   "language": "python",
   "name": "python3"
  },
  "language_info": {
   "codemirror_mode": {
    "name": "ipython",
    "version": 3
   },
   "file_extension": ".py",
   "mimetype": "text/x-python",
   "name": "python",
   "nbconvert_exporter": "python",
   "pygments_lexer": "ipython3",
   "version": "3.6.5"
  }
 },
 "nbformat": 4,
 "nbformat_minor": 2
}
