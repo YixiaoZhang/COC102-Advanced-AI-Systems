{
 "cells": [
  {
   "cell_type": "markdown",
   "metadata": {},
   "source": [
    "# 18COC102 -  Advanced Artificial Intelligence Systems - Coursework"
   ]
  },
  {
   "cell_type": "markdown",
   "metadata": {},
   "source": [
    "<hr>\n",
    "<p style='color:red'>&nbsp;&nbsp;&nbsp;&nbsp;&nbsp;Experiment D3</p>\n",
    "<hr>\n"
   ]
  },
  {
   "cell_type": "code",
   "execution_count": 1,
   "metadata": {},
   "outputs": [
    {
     "name": "stdout",
     "output_type": "stream",
     "text": [
      "Using matplotlib backend: agg\n",
      "Populating the interactive namespace from numpy and matplotlib\n",
      "CPython 3.6.7\n",
      "IPython 7.2.0\n",
      "\n",
      "numpy 1.15.4\n",
      "torch 0.4.1\n",
      "torchvision 0.2.1\n"
     ]
    }
   ],
   "source": [
    "%pylab\n",
    "%matplotlib inline\n",
    "%load_ext watermark\n",
    "%watermark -v -p numpy,torch,torchvision"
   ]
  },
  {
   "cell_type": "code",
   "execution_count": 2,
   "metadata": {},
   "outputs": [],
   "source": [
    "# import all dependencies\n",
    "import torch\n",
    "import torch.nn as nn\n",
    "import torch.nn.functional as F\n",
    "import torchvision\n",
    "import torchvision.transforms as transforms\n",
    "import torch.optim as optim\n",
    "import time\n",
    "import os\n",
    "from tensorboardX import SummaryWriter"
   ]
  },
  {
   "cell_type": "code",
   "execution_count": 3,
   "metadata": {},
   "outputs": [],
   "source": [
    "#implement the network by myself#\n",
    "\n",
    "#remove pool1 and convA reluA convB reluB\n",
    "class LeNet2(nn.Module):\n",
    "    \n",
    "    def __init__(self):\n",
    "        \n",
    "        super(LeNet2, self).__init__()\n",
    "        self.conv1 = nn.Conv2d(3, 6, 5)\n",
    "        self.relu1 = nn.ReLU()\n",
    "        \n",
    "        self.convA = nn.Conv2d(6, 10, 8)\n",
    "        self.reluA = nn.ReLU()\n",
    "        self.convB = nn.Conv2d(10, 12, 8)\n",
    "        self.reluB = nn.ReLU()\n",
    "        \n",
    "        self.conv2 = nn.Conv2d(12, 16, 5)\n",
    "        self.relu2 = nn.ReLU()\n",
    "        self.poo12 = nn.MaxPool2d(2) \n",
    "        \n",
    "        self.fc1   = nn.Linear(16*5*5, 120)\n",
    "        self.relu3 = nn.ReLU()\n",
    "        self.fc2   = nn.Linear(120, 84)\n",
    "        self.relu4 = nn.ReLU()\n",
    "        self.fc3   = nn.Linear(84, 10)\n",
    "\n",
    "        \n",
    "    def forward(self, x):\n",
    "        \n",
    "        x = self.conv1(x)\n",
    "        x = self.relu1(x)\n",
    "        \n",
    "        x = self.convA(x)\n",
    "        x = self.reluA(x)\n",
    "        x = self.convB(x)\n",
    "        x = self.reluB(x)\n",
    "        \n",
    "        x = self.conv2(x)\n",
    "        x = self.relu2(x)\n",
    "        x = self.poo12(x)\n",
    "        \n",
    "        x = x.view(x.size(0), -1)\n",
    "        \n",
    "        x = self.fc1(x)\n",
    "        x = self.relu3(x)\n",
    "        x = self.fc2(x)\n",
    "        x = self.relu4(x)\n",
    "        x = self.fc3(x)\n",
    "        \n",
    "        return x"
   ]
  },
  {
   "cell_type": "code",
   "execution_count": 4,
   "metadata": {},
   "outputs": [],
   "source": [
    "# parameters\n",
    "learning_rate=0.001\n",
    "batch_size=100\n",
    "epoch=200\n",
    "workers=2"
   ]
  },
  {
   "cell_type": "code",
   "execution_count": 5,
   "metadata": {},
   "outputs": [],
   "source": [
    "# set GPU \n",
    "device = torch.device(\"cuda:0\")\n",
    "# set Netwrok\n",
    "net = LeNet2()\n",
    "net = net.to(device)\n",
    "# set optimizer\n",
    "optimizer = optim.Adam(net.parameters(), lr=learning_rate)\n",
    "# set loss function\n",
    "loss = nn.CrossEntropyLoss()"
   ]
  },
  {
   "cell_type": "code",
   "execution_count": 6,
   "metadata": {},
   "outputs": [
    {
     "name": "stdout",
     "output_type": "stream",
     "text": [
      "Files already downloaded and verified\n",
      "Files already downloaded and verified\n"
     ]
    }
   ],
   "source": [
    "# dataloader refer source [2]\n",
    "\n",
    "# load training dataset\n",
    "trainingset = torchvision.datasets.CIFAR10(root='./data', train=True, download=True, \n",
    "                                           transform=transforms.ToTensor())\n",
    "\n",
    "trainingloader = torch.utils.data.DataLoader(trainingset, batch_size=batch_size,shuffle=True, \n",
    "                                             num_workers=workers)\n",
    "# load testing dataset\n",
    "testingset = torchvision.datasets.CIFAR10(root='./data', train=False,\n",
    "                                       download=True, transform=transforms.ToTensor())\n",
    "\n",
    "testingloader = torch.utils.data.DataLoader(testingset, batch_size=batch_size,\n",
    "                                         shuffle=False, num_workers=workers)\n",
    "\n",
    "#end of source [2]\n",
    "#source [2] https://pytorch.org/tutorials/beginner/deep_learning_60min_blitz.html"
   ]
  },
  {
   "cell_type": "code",
   "execution_count": 7,
   "metadata": {},
   "outputs": [
    {
     "name": "stdout",
     "output_type": "stream",
     "text": [
      "[epoch 0]  Loss: 0.1934  Accuracy: 27.070 %\n",
      "[epoch 1]  Loss: 0.1694  Accuracy: 38.064 %\n",
      "[epoch 2]  Loss: 0.1556  Accuracy: 42.908 %\n",
      "[epoch 3]  Loss: 0.1490  Accuracy: 45.550 %\n",
      "[epoch 4]  Loss: 0.1443  Accuracy: 47.702 %\n",
      "[epoch 5]  Loss: 0.1405  Accuracy: 49.248 %\n",
      "[epoch 6]  Loss: 0.1366  Accuracy: 50.798 %\n",
      "[epoch 7]  Loss: 0.1342  Accuracy: 51.860 %\n",
      "[epoch 8]  Loss: 0.1322  Accuracy: 52.610 %\n",
      "[epoch 9]  Loss: 0.1294  Accuracy: 53.360 %\n",
      "[epoch 10]  Loss: 0.1280  Accuracy: 54.244 %\n",
      "[epoch 11]  Loss: 0.1258  Accuracy: 54.940 %\n",
      "[epoch 12]  Loss: 0.1242  Accuracy: 55.716 %\n",
      "[epoch 13]  Loss: 0.1221  Accuracy: 56.318 %\n",
      "[epoch 14]  Loss: 0.1207  Accuracy: 57.098 %\n",
      "[epoch 15]  Loss: 0.1187  Accuracy: 57.778 %\n",
      "[epoch 16]  Loss: 0.1174  Accuracy: 57.824 %\n",
      "[epoch 17]  Loss: 0.1166  Accuracy: 58.270 %\n",
      "[epoch 18]  Loss: 0.1148  Accuracy: 59.166 %\n",
      "[epoch 19]  Loss: 0.1138  Accuracy: 59.542 %\n",
      "[epoch 20]  Loss: 0.1122  Accuracy: 59.784 %\n",
      "[epoch 21]  Loss: 0.1112  Accuracy: 60.244 %\n",
      "[epoch 22]  Loss: 0.1100  Accuracy: 60.538 %\n",
      "[epoch 23]  Loss: 0.1087  Accuracy: 61.126 %\n",
      "[epoch 24]  Loss: 0.1079  Accuracy: 61.416 %\n",
      "[epoch 25]  Loss: 0.1069  Accuracy: 61.910 %\n",
      "[epoch 26]  Loss: 0.1059  Accuracy: 62.090 %\n",
      "[epoch 27]  Loss: 0.1055  Accuracy: 62.148 %\n",
      "[epoch 28]  Loss: 0.1056  Accuracy: 62.368 %\n",
      "[epoch 29]  Loss: 0.1042  Accuracy: 62.658 %\n",
      "[epoch 30]  Loss: 0.1030  Accuracy: 63.164 %\n",
      "[epoch 31]  Loss: 0.1019  Accuracy: 63.544 %\n",
      "[epoch 32]  Loss: 0.1012  Accuracy: 63.684 %\n",
      "[epoch 33]  Loss: 0.1009  Accuracy: 64.020 %\n",
      "[epoch 34]  Loss: 0.0997  Accuracy: 64.312 %\n",
      "[epoch 35]  Loss: 0.0998  Accuracy: 64.268 %\n",
      "[epoch 36]  Loss: 0.0985  Accuracy: 64.476 %\n",
      "[epoch 37]  Loss: 0.0981  Accuracy: 64.878 %\n",
      "[epoch 38]  Loss: 0.0970  Accuracy: 65.056 %\n",
      "[epoch 39]  Loss: 0.0971  Accuracy: 65.090 %\n",
      "[epoch 40]  Loss: 0.0954  Accuracy: 65.602 %\n",
      "[epoch 41]  Loss: 0.0955  Accuracy: 65.682 %\n",
      "[epoch 42]  Loss: 0.0944  Accuracy: 65.916 %\n",
      "[epoch 43]  Loss: 0.0943  Accuracy: 65.962 %\n",
      "[epoch 44]  Loss: 0.0936  Accuracy: 66.288 %\n",
      "[epoch 45]  Loss: 0.0929  Accuracy: 66.700 %\n",
      "[epoch 46]  Loss: 0.0924  Accuracy: 66.904 %\n",
      "[epoch 47]  Loss: 0.0920  Accuracy: 66.850 %\n",
      "[epoch 48]  Loss: 0.0910  Accuracy: 67.304 %\n",
      "[epoch 49]  Loss: 0.0905  Accuracy: 67.456 %\n",
      "[epoch 50]  Loss: 0.0904  Accuracy: 67.318 %\n",
      "[epoch 51]  Loss: 0.0890  Accuracy: 67.884 %\n",
      "[epoch 52]  Loss: 0.0897  Accuracy: 67.610 %\n",
      "[epoch 53]  Loss: 0.0884  Accuracy: 68.228 %\n",
      "[epoch 54]  Loss: 0.0872  Accuracy: 68.376 %\n",
      "[epoch 55]  Loss: 0.0864  Accuracy: 68.770 %\n",
      "[epoch 56]  Loss: 0.0864  Accuracy: 68.848 %\n",
      "[epoch 57]  Loss: 0.0871  Accuracy: 68.578 %\n",
      "[epoch 58]  Loss: 0.0857  Accuracy: 68.882 %\n",
      "[epoch 59]  Loss: 0.0860  Accuracy: 68.736 %\n",
      "[epoch 60]  Loss: 0.0848  Accuracy: 69.288 %\n",
      "[epoch 61]  Loss: 0.0853  Accuracy: 69.142 %\n",
      "[epoch 62]  Loss: 0.0841  Accuracy: 69.444 %\n",
      "[epoch 63]  Loss: 0.0832  Accuracy: 69.904 %\n",
      "[epoch 64]  Loss: 0.0841  Accuracy: 69.552 %\n",
      "[epoch 65]  Loss: 0.0831  Accuracy: 69.974 %\n",
      "[epoch 66]  Loss: 0.0815  Accuracy: 70.524 %\n",
      "[epoch 67]  Loss: 0.0818  Accuracy: 70.532 %\n",
      "[epoch 68]  Loss: 0.0811  Accuracy: 70.636 %\n",
      "[epoch 69]  Loss: 0.0818  Accuracy: 70.384 %\n",
      "[epoch 70]  Loss: 0.0806  Accuracy: 70.876 %\n",
      "[epoch 71]  Loss: 0.0796  Accuracy: 71.166 %\n",
      "[epoch 72]  Loss: 0.0795  Accuracy: 71.258 %\n",
      "[epoch 73]  Loss: 0.0783  Accuracy: 71.694 %\n",
      "[epoch 74]  Loss: 0.0788  Accuracy: 71.454 %\n",
      "[epoch 75]  Loss: 0.0783  Accuracy: 71.652 %\n",
      "[epoch 76]  Loss: 0.0776  Accuracy: 71.834 %\n",
      "[epoch 77]  Loss: 0.0768  Accuracy: 72.008 %\n",
      "[epoch 78]  Loss: 0.0771  Accuracy: 71.912 %\n",
      "[epoch 79]  Loss: 0.0763  Accuracy: 72.046 %\n",
      "[epoch 80]  Loss: 0.0754  Accuracy: 72.754 %\n",
      "[epoch 81]  Loss: 0.0757  Accuracy: 72.476 %\n",
      "[epoch 82]  Loss: 0.0759  Accuracy: 72.242 %\n",
      "[epoch 83]  Loss: 0.0750  Accuracy: 72.650 %\n",
      "[epoch 84]  Loss: 0.0740  Accuracy: 72.978 %\n",
      "[epoch 85]  Loss: 0.0749  Accuracy: 72.734 %\n",
      "[epoch 86]  Loss: 0.0737  Accuracy: 73.074 %\n",
      "[epoch 87]  Loss: 0.0743  Accuracy: 72.924 %\n",
      "[epoch 88]  Loss: 0.0739  Accuracy: 73.084 %\n",
      "[epoch 89]  Loss: 0.0728  Accuracy: 73.468 %\n",
      "[epoch 90]  Loss: 0.0721  Accuracy: 73.656 %\n",
      "[epoch 91]  Loss: 0.0723  Accuracy: 73.606 %\n",
      "[epoch 92]  Loss: 0.0712  Accuracy: 74.126 %\n",
      "[epoch 93]  Loss: 0.0703  Accuracy: 74.228 %\n",
      "[epoch 94]  Loss: 0.0711  Accuracy: 74.252 %\n",
      "[epoch 95]  Loss: 0.0712  Accuracy: 74.108 %\n",
      "[epoch 96]  Loss: 0.0702  Accuracy: 74.344 %\n",
      "[epoch 97]  Loss: 0.0708  Accuracy: 74.166 %\n",
      "[epoch 98]  Loss: 0.0691  Accuracy: 74.652 %\n",
      "[epoch 99]  Loss: 0.0687  Accuracy: 74.924 %\n",
      "[epoch 100]  Loss: 0.0691  Accuracy: 74.696 %\n",
      "[epoch 101]  Loss: 0.0697  Accuracy: 74.642 %\n",
      "[epoch 102]  Loss: 0.0685  Accuracy: 74.840 %\n",
      "[epoch 103]  Loss: 0.0683  Accuracy: 74.858 %\n",
      "[epoch 104]  Loss: 0.0681  Accuracy: 74.970 %\n",
      "[epoch 105]  Loss: 0.0672  Accuracy: 75.620 %\n",
      "[epoch 106]  Loss: 0.0667  Accuracy: 75.444 %\n",
      "[epoch 107]  Loss: 0.0665  Accuracy: 75.658 %\n",
      "[epoch 108]  Loss: 0.0654  Accuracy: 75.894 %\n",
      "[epoch 109]  Loss: 0.0667  Accuracy: 75.562 %\n",
      "[epoch 110]  Loss: 0.0664  Accuracy: 75.618 %\n",
      "[epoch 111]  Loss: 0.0648  Accuracy: 76.014 %\n",
      "[epoch 112]  Loss: 0.0649  Accuracy: 76.076 %\n",
      "[epoch 113]  Loss: 0.0655  Accuracy: 76.034 %\n",
      "[epoch 114]  Loss: 0.0647  Accuracy: 76.280 %\n",
      "[epoch 115]  Loss: 0.0660  Accuracy: 75.692 %\n",
      "[epoch 116]  Loss: 0.0641  Accuracy: 76.512 %\n",
      "[epoch 117]  Loss: 0.0652  Accuracy: 76.226 %\n",
      "[epoch 118]  Loss: 0.0644  Accuracy: 76.162 %\n",
      "[epoch 119]  Loss: 0.0636  Accuracy: 76.538 %\n",
      "[epoch 120]  Loss: 0.0644  Accuracy: 76.242 %\n",
      "[epoch 121]  Loss: 0.0621  Accuracy: 77.246 %\n",
      "[epoch 122]  Loss: 0.0634  Accuracy: 76.592 %\n",
      "[epoch 123]  Loss: 0.0629  Accuracy: 77.058 %\n",
      "[epoch 124]  Loss: 0.0641  Accuracy: 76.536 %\n",
      "[epoch 125]  Loss: 0.0624  Accuracy: 77.134 %\n",
      "[epoch 126]  Loss: 0.0618  Accuracy: 77.228 %\n",
      "[epoch 127]  Loss: 0.0618  Accuracy: 77.200 %\n",
      "[epoch 128]  Loss: 0.0626  Accuracy: 76.994 %\n",
      "[epoch 129]  Loss: 0.0610  Accuracy: 77.606 %\n",
      "[epoch 130]  Loss: 0.0607  Accuracy: 77.544 %\n",
      "[epoch 131]  Loss: 0.0620  Accuracy: 77.178 %\n",
      "[epoch 132]  Loss: 0.0622  Accuracy: 77.186 %\n",
      "[epoch 133]  Loss: 0.0599  Accuracy: 77.850 %\n",
      "[epoch 134]  Loss: 0.0608  Accuracy: 77.562 %\n",
      "[epoch 135]  Loss: 0.0612  Accuracy: 77.556 %\n",
      "[epoch 136]  Loss: 0.0608  Accuracy: 77.488 %\n",
      "[epoch 137]  Loss: 0.0594  Accuracy: 78.054 %\n",
      "[epoch 138]  Loss: 0.0599  Accuracy: 77.964 %\n",
      "[epoch 139]  Loss: 0.0587  Accuracy: 78.226 %\n",
      "[epoch 140]  Loss: 0.0595  Accuracy: 78.118 %\n",
      "[epoch 141]  Loss: 0.0586  Accuracy: 78.428 %\n",
      "[epoch 142]  Loss: 0.0592  Accuracy: 78.178 %\n",
      "[epoch 143]  Loss: 0.0596  Accuracy: 77.964 %\n",
      "[epoch 144]  Loss: 0.0578  Accuracy: 78.762 %\n",
      "[epoch 145]  Loss: 0.0584  Accuracy: 78.486 %\n",
      "[epoch 146]  Loss: 0.0595  Accuracy: 78.068 %\n",
      "[epoch 147]  Loss: 0.0583  Accuracy: 78.468 %\n",
      "[epoch 148]  Loss: 0.0573  Accuracy: 78.834 %\n",
      "[epoch 149]  Loss: 0.0579  Accuracy: 78.742 %\n",
      "[epoch 150]  Loss: 0.0572  Accuracy: 78.956 %\n",
      "[epoch 151]  Loss: 0.0568  Accuracy: 78.874 %\n",
      "[epoch 152]  Loss: 0.0570  Accuracy: 78.880 %\n",
      "[epoch 153]  Loss: 0.0568  Accuracy: 79.130 %\n",
      "[epoch 154]  Loss: 0.0577  Accuracy: 78.636 %\n",
      "[epoch 155]  Loss: 0.0571  Accuracy: 79.048 %\n",
      "[epoch 156]  Loss: 0.0572  Accuracy: 78.952 %\n",
      "[epoch 157]  Loss: 0.0559  Accuracy: 79.438 %\n",
      "[epoch 158]  Loss: 0.0556  Accuracy: 79.424 %\n",
      "[epoch 159]  Loss: 0.0552  Accuracy: 79.672 %\n",
      "[epoch 160]  Loss: 0.0549  Accuracy: 79.860 %\n",
      "[epoch 161]  Loss: 0.0553  Accuracy: 79.496 %\n",
      "[epoch 162]  Loss: 0.0559  Accuracy: 79.418 %\n",
      "[epoch 163]  Loss: 0.0538  Accuracy: 80.062 %\n",
      "[epoch 164]  Loss: 0.0568  Accuracy: 79.078 %\n",
      "[epoch 165]  Loss: 0.0537  Accuracy: 80.318 %\n",
      "[epoch 166]  Loss: 0.0559  Accuracy: 79.640 %\n",
      "[epoch 167]  Loss: 0.0544  Accuracy: 79.942 %\n",
      "[epoch 168]  Loss: 0.0554  Accuracy: 79.614 %\n",
      "[epoch 169]  Loss: 0.0553  Accuracy: 79.540 %\n",
      "[epoch 170]  Loss: 0.0544  Accuracy: 80.000 %\n",
      "[epoch 171]  Loss: 0.0534  Accuracy: 80.322 %\n",
      "[epoch 172]  Loss: 0.0533  Accuracy: 80.212 %\n",
      "[epoch 173]  Loss: 0.0546  Accuracy: 79.980 %\n",
      "[epoch 174]  Loss: 0.0531  Accuracy: 80.570 %\n",
      "[epoch 175]  Loss: 0.0544  Accuracy: 79.884 %\n",
      "[epoch 176]  Loss: 0.0527  Accuracy: 80.612 %\n",
      "[epoch 177]  Loss: 0.0530  Accuracy: 80.480 %\n",
      "[epoch 178]  Loss: 0.0534  Accuracy: 80.354 %\n",
      "[epoch 179]  Loss: 0.0525  Accuracy: 80.420 %\n",
      "[epoch 180]  Loss: 0.0530  Accuracy: 80.482 %\n"
     ]
    },
    {
     "name": "stdout",
     "output_type": "stream",
     "text": [
      "[epoch 181]  Loss: 0.0521  Accuracy: 80.922 %\n",
      "[epoch 182]  Loss: 0.0529  Accuracy: 80.548 %\n",
      "[epoch 183]  Loss: 0.0535  Accuracy: 80.220 %\n",
      "[epoch 184]  Loss: 0.0538  Accuracy: 80.100 %\n",
      "[epoch 185]  Loss: 0.0528  Accuracy: 80.402 %\n",
      "[epoch 186]  Loss: 0.0518  Accuracy: 80.910 %\n",
      "[epoch 187]  Loss: 0.0518  Accuracy: 80.832 %\n",
      "[epoch 188]  Loss: 0.0511  Accuracy: 81.088 %\n",
      "[epoch 189]  Loss: 0.0510  Accuracy: 81.010 %\n",
      "[epoch 190]  Loss: 0.0509  Accuracy: 81.184 %\n",
      "[epoch 191]  Loss: 0.0533  Accuracy: 80.382 %\n",
      "[epoch 192]  Loss: 0.0522  Accuracy: 80.690 %\n",
      "[epoch 193]  Loss: 0.0513  Accuracy: 80.932 %\n",
      "[epoch 194]  Loss: 0.0511  Accuracy: 81.056 %\n",
      "[epoch 195]  Loss: 0.0503  Accuracy: 81.410 %\n",
      "[epoch 196]  Loss: 0.0521  Accuracy: 80.824 %\n",
      "[epoch 197]  Loss: 0.0525  Accuracy: 80.602 %\n",
      "[epoch 198]  Loss: 0.0504  Accuracy: 81.384 %\n",
      "[epoch 199]  Loss: 0.0504  Accuracy: 81.452 %\n",
      "Finished Training! Training process cost 2620.447855 sec\n"
     ]
    }
   ],
   "source": [
    "#ALL THE CODE IN THIS CELL ARE WRITE BY MY SELF#\n",
    "# Start training : set net to train model\n",
    "net.train()\n",
    "\n",
    "# make two arrays for saving matplotlib data\n",
    "train_loss = []\n",
    "train_accu = []\n",
    "accuracy = 0\n",
    "\n",
    "# get TersorBoard writer object\n",
    "writer = SummaryWriter(log_dir='Training')\n",
    "\n",
    "# Training process\n",
    "timestart = time.time()\n",
    "for epoch in range(0,epoch):\n",
    "    \n",
    "    # initialize loss,total,correct\n",
    "    loss_value = 0.0\n",
    "    total = 0\n",
    "    correct = 0\n",
    "    accuracy = 0\n",
    "    \n",
    "    # do iteration (total number of training images / batch size) times\n",
    "    for i, (inputs, labels) in enumerate(trainingloader, 0):\n",
    "        \n",
    "        # get the input and its label\n",
    "        inputs = inputs.to(device)\n",
    "        labels = labels.to(device)\n",
    "\n",
    "        # make gradients to 0\n",
    "        optimizer.zero_grad()\n",
    "\n",
    "        # forward step\n",
    "        outputs = net(inputs)\n",
    "        \n",
    "        # compute the loss\n",
    "        l = loss(outputs, labels)\n",
    "        \n",
    "        # backward step\n",
    "        l.backward()\n",
    "        \n",
    "        # optimize step\n",
    "        optimizer.step()\n",
    "\n",
    "        # compute loss\n",
    "        loss_value += l.item()\n",
    "        \n",
    "        # save to array in oder to output loss image at the end\n",
    "        train_loss.append(l.item())\n",
    "        \n",
    "        # write to tensorboard file\n",
    "        writer.add_scalars('/GroupD/Loss', {'D3': l.item()}, epoch)\n",
    "\n",
    "        \n",
    "        # compute accuracy\n",
    "        _, predicted = torch.max(outputs.data, 1)\n",
    "        total = total + labels.size(0)\n",
    "        correct = correct + (predicted == labels).sum().item()\n",
    "        accuracy = correct / total * 100.0\n",
    "        \n",
    "        # save to array in oder to output accuracy image at the end\n",
    "        train_accu.append(accuracy)\n",
    "        \n",
    "        # write to tensorboard file\n",
    "        writer.add_scalars('/GroupD/Accuracy', {'D3': accuracy}, epoch)\n",
    "        \n",
    "\n",
    "    loss_epoch = loss_value / (500000/batch_size)\n",
    "    # output the result of this epoch \n",
    "    print('[epoch %d]  Loss: %.4f  Accuracy: %.3f %%' %(epoch, loss_epoch , accuracy))\n",
    "\n",
    "    \n",
    "# Finish Training\n",
    "result_training_accuracy = accuracy\n",
    "result_training_time = (time.time()-timestart)\n",
    "print('Finished Training! Training process cost %3f sec' %result_training_time)"
   ]
  },
  {
   "cell_type": "code",
   "execution_count": 8,
   "metadata": {},
   "outputs": [
    {
     "data": {
      "text/plain": [
       "[<matplotlib.lines.Line2D at 0x7f75d06ef748>]"
      ]
     },
     "execution_count": 8,
     "metadata": {},
     "output_type": "execute_result"
    },
    {
     "data": {
      "image/png": "[encoded data removed]",
      "text/plain": [
       "<Figure size 432x288 with 1 Axes>"
      ]
     },
     "metadata": {
      "needs_background": "light"
     },
     "output_type": "display_data"
    }
   ],
   "source": [
    "# show the loss\n",
    "plt.plot(np.arange(len(train_loss)), train_loss)"
   ]
  },
  {
   "cell_type": "code",
   "execution_count": 9,
   "metadata": {},
   "outputs": [
    {
     "data": {
      "text/plain": [
       "[<matplotlib.lines.Line2D at 0x7f75dc3ef320>]"
      ]
     },
     "execution_count": 9,
     "metadata": {},
     "output_type": "execute_result"
    },
    {
     "data": {
      "image/png": "[encoded data removed]",
      "text/plain": [
       "<Figure size 432x288 with 1 Axes>"
      ]
     },
     "metadata": {
      "needs_background": "light"
     },
     "output_type": "display_data"
    }
   ],
   "source": [
    "# show the accuracy\n",
    "plt.plot(np.arange(len(train_accu)), train_accu)"
   ]
  },
  {
   "cell_type": "code",
   "execution_count": 10,
   "metadata": {},
   "outputs": [],
   "source": [
    "# close the TensorBoard output stream\n",
    "writer.close()"
   ]
  },
  {
   "cell_type": "code",
   "execution_count": 11,
   "metadata": {},
   "outputs": [
    {
     "name": "stdout",
     "output_type": "stream",
     "text": [
      "The accuracy of the network is 83.046 %\n"
     ]
    }
   ],
   "source": [
    "#ALL THE CODE IN THIS CELL ARE WRITE BY MY SELF#\n",
    "# Start testing : set net to train model\n",
    "correct = 0\n",
    "total = 0\n",
    "\n",
    "# deactivate the autograd engine\n",
    "with torch.no_grad():\n",
    "    \n",
    "    # do testing iteration\n",
    "    #for data in testingloader:\n",
    "        \n",
    "        # get the input and its label\n",
    "        #images, labels = data\n",
    "        #images, labels = images.to(device), labels.to(device)\n",
    "    for i, (inputs, labels) in enumerate(trainingloader, 0):\n",
    "        \n",
    "        # get the input and its label\n",
    "        inputs = inputs.to(device)\n",
    "        labels = labels.to(device)\n",
    "        \n",
    "        # forward step\n",
    "        outputs = net(inputs)\n",
    "        \n",
    "        # compute accuracy\n",
    "        _, predicted = torch.max(outputs.data, 1)\n",
    "        total = total + labels.size(0)\n",
    "        correct = correct + (predicted == labels).sum().item()\n",
    "\n",
    "# Finish Testing\n",
    "result_testing_accuracy = correct / total * 100.0\n",
    "print('The accuracy of the network is %.3f %%' % result_testing_accuracy)"
   ]
  },
  {
   "cell_type": "code",
   "execution_count": 12,
   "metadata": {},
   "outputs": [
    {
     "name": "stdout",
     "output_type": "stream",
     "text": [
      "[Configuration]\n",
      "learning rate = 0.001000\n",
      "batch size = 100\n",
      "epoch = 199\n",
      "\n",
      "[Expirement Result]\n",
      "training time = 2620.447855 sec\n",
      "training accuracy = 81.452 %\n",
      "testing accuracy =  83.046 %\n"
     ]
    }
   ],
   "source": [
    "print('[Configuration]')\n",
    "print('learning rate = %3f' % learning_rate )\n",
    "print('batch size = %d' % batch_size )\n",
    "print('epoch = %d' % epoch )\n",
    "print('')\n",
    "print('[Expirement Result]')\n",
    "print('training time = %3f sec' % result_training_time )\n",
    "print('training accuracy = %.3f %%' %result_training_accuracy )\n",
    "print('testing accuracy =  %.3f %%' % (100.0 * correct / total))\n"
   ]
  },
  {
   "cell_type": "markdown",
   "metadata": {},
   "source": [
    "<b>click <a href='../Main.ipynb'>here</a> to return to Main.ipynb"
   ]
  },
  {
   "cell_type": "code",
   "execution_count": null,
   "metadata": {},
   "outputs": [],
   "source": []
  }
 ],
 "metadata": {
  "kernelspec": {
   "display_name": "Python 3",
   "language": "python",
   "name": "python3"
  },
  "language_info": {
   "codemirror_mode": {
    "name": "ipython",
    "version": 3
   },
   "file_extension": ".py",
   "mimetype": "text/x-python",
   "name": "python",
   "nbconvert_exporter": "python",
   "pygments_lexer": "ipython3",
   "version": "3.6.7"
  }
 },
 "nbformat": 4,
 "nbformat_minor": 2
}
