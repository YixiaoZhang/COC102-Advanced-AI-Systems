{
 "cells": [
  {
   "cell_type": "markdown",
   "metadata": {},
   "source": [
    "# 18COC102 -  Advanced Artificial Intelligence Systems - Coursework"
   ]
  },
  {
   "cell_type": "markdown",
   "metadata": {},
   "source": [
    "<hr>\n",
    "<p style='color:red'>&nbsp;&nbsp;&nbsp;&nbsp;&nbsp;Experiment D2</p>\n",
    "<hr>\n"
   ]
  },
  {
   "cell_type": "code",
   "execution_count": 1,
   "metadata": {},
   "outputs": [
    {
     "name": "stdout",
     "output_type": "stream",
     "text": [
      "Using matplotlib backend: agg\n",
      "Populating the interactive namespace from numpy and matplotlib\n",
      "CPython 3.6.7\n",
      "IPython 7.2.0\n",
      "\n",
      "numpy 1.15.4\n",
      "torch 0.4.1\n",
      "torchvision 0.2.1\n"
     ]
    }
   ],
   "source": [
    "%pylab\n",
    "%matplotlib inline\n",
    "%load_ext watermark\n",
    "%watermark -v -p numpy,torch,torchvision"
   ]
  },
  {
   "cell_type": "code",
   "execution_count": 2,
   "metadata": {},
   "outputs": [],
   "source": [
    "# import all dependencies\n",
    "import torch\n",
    "import torch.nn as nn\n",
    "import torch.nn.functional as F\n",
    "import torchvision\n",
    "import torchvision.transforms as transforms\n",
    "import torch.optim as optim\n",
    "import time\n",
    "import os\n",
    "from tensorboardX import SummaryWriter"
   ]
  },
  {
   "cell_type": "code",
   "execution_count": 3,
   "metadata": {},
   "outputs": [],
   "source": [
    "#implement the network by myself#\n",
    "\n",
    "#remove pool2 add convA reluA fcA reluB\n",
    "class LeNet1(nn.Module):\n",
    "    \n",
    "    def __init__(self):\n",
    "        \n",
    "        super(LeNet1, self).__init__()\n",
    "        self.conv1 = nn.Conv2d(3, 6, 5)\n",
    "        self.relu1 = nn.ReLU()\n",
    "        self.poo11 = nn.MaxPool2d(2,2) \n",
    "        \n",
    "        self.conv2 = nn.Conv2d(6, 16, 5)\n",
    "        self.relu2 = nn.ReLU()\n",
    "        \n",
    "        self.convA = nn.Conv2d(16, 32, 6)\n",
    "        self.reluA = nn.ReLU()\n",
    "        \n",
    "        self.fc1   = nn.Linear(32*5*5, 240)\n",
    "        self.relu3 = nn.ReLU()\n",
    "        self.fcA   = nn.Linear(240, 120)\n",
    "        self.reluB = nn.ReLU()\n",
    "        self.fc2   = nn.Linear(120, 84)\n",
    "        self.relu4 = nn.ReLU()\n",
    "        self.fc3   = nn.Linear(84, 10)\n",
    "\n",
    "        \n",
    "    def forward(self, x):\n",
    "        \n",
    "        x = self.conv1(x)\n",
    "        x = self.relu1(x)\n",
    "        x = self.poo11(x)\n",
    "        \n",
    "        x = self.conv2(x)\n",
    "        x = self.relu2(x)\n",
    "\n",
    "        x = self.convA(x)\n",
    "        x = self.reluA(x)\n",
    "        \n",
    "        x = x.view(x.size(0), -1)\n",
    "        \n",
    "        x = self.fc1(x)\n",
    "        x = self.relu3(x)\n",
    "        x = self.fcA(x)\n",
    "        x = self.reluB(x)\n",
    "        x = self.fc2(x)\n",
    "        x = self.relu4(x)\n",
    "        x = self.fc3(x)\n",
    "        \n",
    "        return x"
   ]
  },
  {
   "cell_type": "code",
   "execution_count": 4,
   "metadata": {},
   "outputs": [],
   "source": [
    "# parameters\n",
    "learning_rate=0.001\n",
    "batch_size=100\n",
    "epoch=200\n",
    "workers=2"
   ]
  },
  {
   "cell_type": "code",
   "execution_count": 5,
   "metadata": {},
   "outputs": [],
   "source": [
    "# set GPU \n",
    "device = torch.device(\"cuda:0\")\n",
    "# set Netwrok\n",
    "net = LeNet1()\n",
    "net = net.to(device)\n",
    "# set optimizer\n",
    "optimizer = optim.Adam(net.parameters(), lr=learning_rate)\n",
    "# set loss function\n",
    "loss = nn.CrossEntropyLoss()"
   ]
  },
  {
   "cell_type": "code",
   "execution_count": 6,
   "metadata": {},
   "outputs": [
    {
     "name": "stdout",
     "output_type": "stream",
     "text": [
      "Files already downloaded and verified\n",
      "Files already downloaded and verified\n"
     ]
    }
   ],
   "source": [
    "# dataloader refer source [2]\n",
    "\n",
    "# load training dataset\n",
    "trainingset = torchvision.datasets.CIFAR10(root='./data', train=True, download=True, \n",
    "                                           transform=transforms.ToTensor())\n",
    "\n",
    "trainingloader = torch.utils.data.DataLoader(trainingset, batch_size=batch_size,shuffle=True, \n",
    "                                             num_workers=workers)\n",
    "# load testing dataset\n",
    "testingset = torchvision.datasets.CIFAR10(root='./data', train=False,\n",
    "                                       download=True, transform=transforms.ToTensor())\n",
    "\n",
    "testingloader = torch.utils.data.DataLoader(testingset, batch_size=batch_size,\n",
    "                                         shuffle=False, num_workers=workers)\n",
    "\n",
    "#end of source [2]\n",
    "#source [2] https://pytorch.org/tutorials/beginner/deep_learning_60min_blitz.html"
   ]
  },
  {
   "cell_type": "code",
   "execution_count": 7,
   "metadata": {},
   "outputs": [
    {
     "name": "stdout",
     "output_type": "stream",
     "text": [
      "[epoch 0]  Loss: 0.1899  Accuracy: 26.520 %\n",
      "[epoch 1]  Loss: 0.1557  Accuracy: 42.172 %\n",
      "[epoch 2]  Loss: 0.1420  Accuracy: 48.022 %\n",
      "[epoch 3]  Loss: 0.1340  Accuracy: 51.254 %\n",
      "[epoch 4]  Loss: 0.1287  Accuracy: 53.550 %\n",
      "[epoch 5]  Loss: 0.1237  Accuracy: 55.584 %\n",
      "[epoch 6]  Loss: 0.1193  Accuracy: 57.216 %\n",
      "[epoch 7]  Loss: 0.1150  Accuracy: 59.072 %\n",
      "[epoch 8]  Loss: 0.1116  Accuracy: 60.184 %\n",
      "[epoch 9]  Loss: 0.1082  Accuracy: 61.422 %\n",
      "[epoch 10]  Loss: 0.1045  Accuracy: 62.560 %\n",
      "[epoch 11]  Loss: 0.1019  Accuracy: 63.564 %\n",
      "[epoch 12]  Loss: 0.0987  Accuracy: 64.896 %\n",
      "[epoch 13]  Loss: 0.0954  Accuracy: 66.030 %\n",
      "[epoch 14]  Loss: 0.0924  Accuracy: 67.044 %\n",
      "[epoch 15]  Loss: 0.0895  Accuracy: 68.190 %\n",
      "[epoch 16]  Loss: 0.0871  Accuracy: 69.004 %\n",
      "[epoch 17]  Loss: 0.0832  Accuracy: 70.564 %\n",
      "[epoch 18]  Loss: 0.0812  Accuracy: 71.026 %\n",
      "[epoch 19]  Loss: 0.0775  Accuracy: 72.470 %\n",
      "[epoch 20]  Loss: 0.0757  Accuracy: 72.972 %\n",
      "[epoch 21]  Loss: 0.0721  Accuracy: 74.252 %\n",
      "[epoch 22]  Loss: 0.0688  Accuracy: 75.496 %\n",
      "[epoch 23]  Loss: 0.0662  Accuracy: 76.604 %\n",
      "[epoch 24]  Loss: 0.0637  Accuracy: 77.038 %\n",
      "[epoch 25]  Loss: 0.0618  Accuracy: 77.836 %\n",
      "[epoch 26]  Loss: 0.0585  Accuracy: 79.154 %\n",
      "[epoch 27]  Loss: 0.0546  Accuracy: 80.546 %\n",
      "[epoch 28]  Loss: 0.0535  Accuracy: 80.614 %\n",
      "[epoch 29]  Loss: 0.0515  Accuracy: 81.464 %\n",
      "[epoch 30]  Loss: 0.0490  Accuracy: 82.586 %\n",
      "[epoch 31]  Loss: 0.0473  Accuracy: 82.886 %\n",
      "[epoch 32]  Loss: 0.0443  Accuracy: 84.074 %\n",
      "[epoch 33]  Loss: 0.0411  Accuracy: 85.234 %\n",
      "[epoch 34]  Loss: 0.0406  Accuracy: 85.580 %\n",
      "[epoch 35]  Loss: 0.0386  Accuracy: 86.060 %\n",
      "[epoch 36]  Loss: 0.0393  Accuracy: 86.092 %\n",
      "[epoch 37]  Loss: 0.0332  Accuracy: 88.096 %\n",
      "[epoch 38]  Loss: 0.0326  Accuracy: 88.120 %\n",
      "[epoch 39]  Loss: 0.0330  Accuracy: 88.122 %\n",
      "[epoch 40]  Loss: 0.0304  Accuracy: 89.028 %\n",
      "[epoch 41]  Loss: 0.0296  Accuracy: 89.280 %\n",
      "[epoch 42]  Loss: 0.0290  Accuracy: 89.594 %\n",
      "[epoch 43]  Loss: 0.0267  Accuracy: 90.342 %\n",
      "[epoch 44]  Loss: 0.0255  Accuracy: 90.844 %\n",
      "[epoch 45]  Loss: 0.0254  Accuracy: 90.994 %\n",
      "[epoch 46]  Loss: 0.0234  Accuracy: 91.632 %\n",
      "[epoch 47]  Loss: 0.0256  Accuracy: 90.928 %\n",
      "[epoch 48]  Loss: 0.0221  Accuracy: 92.252 %\n",
      "[epoch 49]  Loss: 0.0231  Accuracy: 91.724 %\n",
      "[epoch 50]  Loss: 0.0212  Accuracy: 92.500 %\n",
      "[epoch 51]  Loss: 0.0228  Accuracy: 91.944 %\n",
      "[epoch 52]  Loss: 0.0203  Accuracy: 92.758 %\n",
      "[epoch 53]  Loss: 0.0210  Accuracy: 92.626 %\n",
      "[epoch 54]  Loss: 0.0170  Accuracy: 93.988 %\n",
      "[epoch 55]  Loss: 0.0196  Accuracy: 93.010 %\n",
      "[epoch 56]  Loss: 0.0202  Accuracy: 92.818 %\n",
      "[epoch 57]  Loss: 0.0184  Accuracy: 93.588 %\n",
      "[epoch 58]  Loss: 0.0178  Accuracy: 93.736 %\n",
      "[epoch 59]  Loss: 0.0173  Accuracy: 93.972 %\n",
      "[epoch 60]  Loss: 0.0167  Accuracy: 94.132 %\n",
      "[epoch 61]  Loss: 0.0166  Accuracy: 94.140 %\n",
      "[epoch 62]  Loss: 0.0171  Accuracy: 93.874 %\n",
      "[epoch 63]  Loss: 0.0176  Accuracy: 93.972 %\n",
      "[epoch 64]  Loss: 0.0155  Accuracy: 94.396 %\n",
      "[epoch 65]  Loss: 0.0170  Accuracy: 94.114 %\n",
      "[epoch 66]  Loss: 0.0154  Accuracy: 94.650 %\n",
      "[epoch 67]  Loss: 0.0152  Accuracy: 94.754 %\n",
      "[epoch 68]  Loss: 0.0149  Accuracy: 94.812 %\n",
      "[epoch 69]  Loss: 0.0168  Accuracy: 94.482 %\n",
      "[epoch 70]  Loss: 0.0145  Accuracy: 94.994 %\n",
      "[epoch 71]  Loss: 0.0137  Accuracy: 95.284 %\n",
      "[epoch 72]  Loss: 0.0144  Accuracy: 95.100 %\n",
      "[epoch 73]  Loss: 0.0140  Accuracy: 95.222 %\n",
      "[epoch 74]  Loss: 0.0147  Accuracy: 94.990 %\n",
      "[epoch 75]  Loss: 0.0130  Accuracy: 95.448 %\n",
      "[epoch 76]  Loss: 0.0128  Accuracy: 95.562 %\n",
      "[epoch 77]  Loss: 0.0143  Accuracy: 94.990 %\n",
      "[epoch 78]  Loss: 0.0127  Accuracy: 95.618 %\n",
      "[epoch 79]  Loss: 0.0138  Accuracy: 95.232 %\n",
      "[epoch 80]  Loss: 0.0140  Accuracy: 95.258 %\n",
      "[epoch 81]  Loss: 0.0132  Accuracy: 95.422 %\n",
      "[epoch 82]  Loss: 0.0111  Accuracy: 96.270 %\n",
      "[epoch 83]  Loss: 0.0134  Accuracy: 95.478 %\n",
      "[epoch 84]  Loss: 0.0124  Accuracy: 95.756 %\n",
      "[epoch 85]  Loss: 0.0125  Accuracy: 95.662 %\n",
      "[epoch 86]  Loss: 0.0133  Accuracy: 95.554 %\n",
      "[epoch 87]  Loss: 0.0107  Accuracy: 96.444 %\n",
      "[epoch 88]  Loss: 0.0131  Accuracy: 95.734 %\n",
      "[epoch 89]  Loss: 0.0108  Accuracy: 96.452 %\n",
      "[epoch 90]  Loss: 0.0121  Accuracy: 95.948 %\n",
      "[epoch 91]  Loss: 0.0129  Accuracy: 95.636 %\n",
      "[epoch 92]  Loss: 0.0094  Accuracy: 96.782 %\n",
      "[epoch 93]  Loss: 0.0125  Accuracy: 95.806 %\n",
      "[epoch 94]  Loss: 0.0104  Accuracy: 96.496 %\n",
      "[epoch 95]  Loss: 0.0129  Accuracy: 95.736 %\n",
      "[epoch 96]  Loss: 0.0105  Accuracy: 96.452 %\n",
      "[epoch 97]  Loss: 0.0143  Accuracy: 95.384 %\n",
      "[epoch 98]  Loss: 0.0074  Accuracy: 97.418 %\n",
      "[epoch 99]  Loss: 0.0121  Accuracy: 95.938 %\n",
      "[epoch 100]  Loss: 0.0105  Accuracy: 96.502 %\n",
      "[epoch 101]  Loss: 0.0110  Accuracy: 96.320 %\n",
      "[epoch 102]  Loss: 0.0117  Accuracy: 96.020 %\n",
      "[epoch 103]  Loss: 0.0100  Accuracy: 96.638 %\n",
      "[epoch 104]  Loss: 0.0107  Accuracy: 96.322 %\n",
      "[epoch 105]  Loss: 0.0108  Accuracy: 96.382 %\n",
      "[epoch 106]  Loss: 0.0100  Accuracy: 96.644 %\n",
      "[epoch 107]  Loss: 0.0106  Accuracy: 96.548 %\n",
      "[epoch 108]  Loss: 0.0089  Accuracy: 97.004 %\n",
      "[epoch 109]  Loss: 0.0103  Accuracy: 96.584 %\n",
      "[epoch 110]  Loss: 0.0095  Accuracy: 96.806 %\n",
      "[epoch 111]  Loss: 0.0104  Accuracy: 96.576 %\n",
      "[epoch 112]  Loss: 0.0107  Accuracy: 96.468 %\n",
      "[epoch 113]  Loss: 0.0112  Accuracy: 96.274 %\n",
      "[epoch 114]  Loss: 0.0089  Accuracy: 97.136 %\n",
      "[epoch 115]  Loss: 0.0085  Accuracy: 97.152 %\n",
      "[epoch 116]  Loss: 0.0104  Accuracy: 96.592 %\n",
      "[epoch 117]  Loss: 0.0100  Accuracy: 96.716 %\n",
      "[epoch 118]  Loss: 0.0113  Accuracy: 96.214 %\n",
      "[epoch 119]  Loss: 0.0075  Accuracy: 97.474 %\n",
      "[epoch 120]  Loss: 0.0095  Accuracy: 96.842 %\n",
      "[epoch 121]  Loss: 0.0092  Accuracy: 96.960 %\n",
      "[epoch 122]  Loss: 0.0119  Accuracy: 96.098 %\n",
      "[epoch 123]  Loss: 0.0074  Accuracy: 97.590 %\n",
      "[epoch 124]  Loss: 0.0105  Accuracy: 96.576 %\n",
      "[epoch 125]  Loss: 0.0087  Accuracy: 97.154 %\n",
      "[epoch 126]  Loss: 0.0085  Accuracy: 97.236 %\n",
      "[epoch 127]  Loss: 0.0106  Accuracy: 96.620 %\n",
      "[epoch 128]  Loss: 0.0086  Accuracy: 97.054 %\n",
      "[epoch 129]  Loss: 0.0089  Accuracy: 97.056 %\n",
      "[epoch 130]  Loss: 0.0064  Accuracy: 97.832 %\n",
      "[epoch 131]  Loss: 0.0111  Accuracy: 96.468 %\n",
      "[epoch 132]  Loss: 0.0090  Accuracy: 96.950 %\n",
      "[epoch 133]  Loss: 0.0072  Accuracy: 97.584 %\n",
      "[epoch 134]  Loss: 0.0101  Accuracy: 96.766 %\n",
      "[epoch 135]  Loss: 0.0104  Accuracy: 96.646 %\n",
      "[epoch 136]  Loss: 0.0059  Accuracy: 98.028 %\n",
      "[epoch 137]  Loss: 0.0104  Accuracy: 96.558 %\n",
      "[epoch 138]  Loss: 0.0069  Accuracy: 97.768 %\n",
      "[epoch 139]  Loss: 0.0097  Accuracy: 96.844 %\n",
      "[epoch 140]  Loss: 0.0090  Accuracy: 97.122 %\n",
      "[epoch 141]  Loss: 0.0073  Accuracy: 97.620 %\n",
      "[epoch 142]  Loss: 0.0092  Accuracy: 97.064 %\n",
      "[epoch 143]  Loss: 0.0090  Accuracy: 97.080 %\n",
      "[epoch 144]  Loss: 0.0086  Accuracy: 97.288 %\n",
      "[epoch 145]  Loss: 0.0081  Accuracy: 97.368 %\n",
      "[epoch 146]  Loss: 0.0092  Accuracy: 97.106 %\n",
      "[epoch 147]  Loss: 0.0088  Accuracy: 97.198 %\n",
      "[epoch 148]  Loss: 0.0065  Accuracy: 97.844 %\n",
      "[epoch 149]  Loss: 0.0093  Accuracy: 96.992 %\n",
      "[epoch 150]  Loss: 0.0095  Accuracy: 96.982 %\n",
      "[epoch 151]  Loss: 0.0080  Accuracy: 97.424 %\n",
      "[epoch 152]  Loss: 0.0060  Accuracy: 98.006 %\n",
      "[epoch 153]  Loss: 0.0081  Accuracy: 97.256 %\n",
      "[epoch 154]  Loss: 0.0087  Accuracy: 97.194 %\n",
      "[epoch 155]  Loss: 0.0101  Accuracy: 96.828 %\n",
      "[epoch 156]  Loss: 0.0070  Accuracy: 97.588 %\n",
      "[epoch 157]  Loss: 0.0093  Accuracy: 97.068 %\n",
      "[epoch 158]  Loss: 0.0076  Accuracy: 97.546 %\n",
      "[epoch 159]  Loss: 0.0061  Accuracy: 98.064 %\n",
      "[epoch 160]  Loss: 0.0090  Accuracy: 97.106 %\n",
      "[epoch 161]  Loss: 0.0081  Accuracy: 97.360 %\n",
      "[epoch 162]  Loss: 0.0072  Accuracy: 97.680 %\n",
      "[epoch 163]  Loss: 0.0087  Accuracy: 97.174 %\n",
      "[epoch 164]  Loss: 0.0065  Accuracy: 97.824 %\n",
      "[epoch 165]  Loss: 0.0072  Accuracy: 97.648 %\n",
      "[epoch 166]  Loss: 0.0086  Accuracy: 97.152 %\n",
      "[epoch 167]  Loss: 0.0073  Accuracy: 97.700 %\n",
      "[epoch 168]  Loss: 0.0070  Accuracy: 97.740 %\n",
      "[epoch 169]  Loss: 0.0088  Accuracy: 97.168 %\n",
      "[epoch 170]  Loss: 0.0082  Accuracy: 97.390 %\n",
      "[epoch 171]  Loss: 0.0065  Accuracy: 97.868 %\n",
      "[epoch 172]  Loss: 0.0073  Accuracy: 97.612 %\n",
      "[epoch 173]  Loss: 0.0076  Accuracy: 97.540 %\n",
      "[epoch 174]  Loss: 0.0072  Accuracy: 97.708 %\n",
      "[epoch 175]  Loss: 0.0084  Accuracy: 97.284 %\n",
      "[epoch 176]  Loss: 0.0077  Accuracy: 97.574 %\n",
      "[epoch 177]  Loss: 0.0063  Accuracy: 97.972 %\n",
      "[epoch 178]  Loss: 0.0088  Accuracy: 97.200 %\n",
      "[epoch 179]  Loss: 0.0060  Accuracy: 98.058 %\n",
      "[epoch 180]  Loss: 0.0089  Accuracy: 97.244 %\n"
     ]
    },
    {
     "name": "stdout",
     "output_type": "stream",
     "text": [
      "[epoch 181]  Loss: 0.0058  Accuracy: 98.150 %\n",
      "[epoch 182]  Loss: 0.0102  Accuracy: 96.802 %\n",
      "[epoch 183]  Loss: 0.0057  Accuracy: 98.194 %\n",
      "[epoch 184]  Loss: 0.0060  Accuracy: 98.038 %\n",
      "[epoch 185]  Loss: 0.0081  Accuracy: 97.492 %\n",
      "[epoch 186]  Loss: 0.0072  Accuracy: 97.810 %\n",
      "[epoch 187]  Loss: 0.0080  Accuracy: 97.478 %\n",
      "[epoch 188]  Loss: 0.0077  Accuracy: 97.546 %\n",
      "[epoch 189]  Loss: 0.0073  Accuracy: 97.720 %\n",
      "[epoch 190]  Loss: 0.0084  Accuracy: 97.338 %\n",
      "[epoch 191]  Loss: 0.0062  Accuracy: 98.116 %\n",
      "[epoch 192]  Loss: 0.0074  Accuracy: 97.612 %\n",
      "[epoch 193]  Loss: 0.0069  Accuracy: 97.746 %\n",
      "[epoch 194]  Loss: 0.0073  Accuracy: 97.676 %\n",
      "[epoch 195]  Loss: 0.0078  Accuracy: 97.548 %\n",
      "[epoch 196]  Loss: 0.0064  Accuracy: 97.948 %\n",
      "[epoch 197]  Loss: 0.0071  Accuracy: 97.658 %\n",
      "[epoch 198]  Loss: 0.0062  Accuracy: 97.998 %\n",
      "[epoch 199]  Loss: 0.0074  Accuracy: 97.652 %\n",
      "Finished Training! Training process cost 2061.710620 sec\n"
     ]
    }
   ],
   "source": [
    "#ALL THE CODE IN THIS CELL ARE WRITE BY MY SELF#\n",
    "# Start training : set net to train model\n",
    "net.train()\n",
    "\n",
    "# make two arrays for saving matplotlib data\n",
    "train_loss = []\n",
    "train_accu = []\n",
    "accuracy = 0\n",
    "\n",
    "# get TersorBoard writer object\n",
    "writer = SummaryWriter(log_dir='Training')\n",
    "\n",
    "# Training process\n",
    "timestart = time.time()\n",
    "for epoch in range(0,epoch):\n",
    "    \n",
    "    # initialize loss,total,correct\n",
    "    loss_value = 0.0\n",
    "    total = 0\n",
    "    correct = 0\n",
    "    accuracy = 0\n",
    "    \n",
    "    # do iteration (total number of training images / batch size) times\n",
    "    for i, (inputs, labels) in enumerate(trainingloader, 0):\n",
    "        \n",
    "        # get the input and its label\n",
    "        inputs = inputs.to(device)\n",
    "        labels = labels.to(device)\n",
    "\n",
    "        # make gradients to 0\n",
    "        optimizer.zero_grad()\n",
    "\n",
    "        # forward step\n",
    "        outputs = net(inputs)\n",
    "        \n",
    "        # compute the loss\n",
    "        l = loss(outputs, labels)\n",
    "        \n",
    "        # backward step\n",
    "        l.backward()\n",
    "        \n",
    "        # optimize step\n",
    "        optimizer.step()\n",
    "\n",
    "        # compute loss\n",
    "        loss_value += l.item()\n",
    "        \n",
    "        # save to array in oder to output loss image at the end\n",
    "        train_loss.append(l.item())\n",
    "        \n",
    "        # write to tensorboard file\n",
    "        writer.add_scalars('/GroupD/Loss', {'D2': l.item()}, epoch)\n",
    "\n",
    "        \n",
    "        # compute accuracy\n",
    "        _, predicted = torch.max(outputs.data, 1)\n",
    "        total = total + labels.size(0)\n",
    "        correct = correct + (predicted == labels).sum().item()\n",
    "        accuracy = correct / total * 100.0\n",
    "        \n",
    "        # save to array in oder to output accuracy image at the end\n",
    "        train_accu.append(accuracy)\n",
    "        \n",
    "        # write to tensorboard file\n",
    "        writer.add_scalars('/GroupD/Accuracy', {'D2': accuracy}, epoch)\n",
    "        \n",
    "\n",
    "    loss_epoch = loss_value / (500000/batch_size)\n",
    "    # output the result of this epoch \n",
    "    print('[epoch %d]  Loss: %.4f  Accuracy: %.3f %%' %(epoch, loss_epoch , accuracy))\n",
    "\n",
    "    \n",
    "# Finish Training\n",
    "result_training_accuracy = accuracy\n",
    "result_training_time = (time.time()-timestart)\n",
    "print('Finished Training! Training process cost %3f sec' %result_training_time)"
   ]
  },
  {
   "cell_type": "code",
   "execution_count": 8,
   "metadata": {},
   "outputs": [
    {
     "data": {
      "text/plain": [
       "[<matplotlib.lines.Line2D at 0x7f9686aea550>]"
      ]
     },
     "execution_count": 8,
     "metadata": {},
     "output_type": "execute_result"
    },
    {
     "data": {
      "image/png": "[encoded data removed]",
      "text/plain": [
       "<Figure size 432x288 with 1 Axes>"
      ]
     },
     "metadata": {
      "needs_background": "light"
     },
     "output_type": "display_data"
    }
   ],
   "source": [
    "# show the loss\n",
    "plt.plot(np.arange(len(train_loss)), train_loss)"
   ]
  },
  {
   "cell_type": "code",
   "execution_count": 9,
   "metadata": {},
   "outputs": [
    {
     "data": {
      "text/plain": [
       "[<matplotlib.lines.Line2D at 0x7f969c631320>]"
      ]
     },
     "execution_count": 9,
     "metadata": {},
     "output_type": "execute_result"
    },
    {
     "data": {
      "image/png": "[encoded data removed]",
      "text/plain": [
       "<Figure size 432x288 with 1 Axes>"
      ]
     },
     "metadata": {
      "needs_background": "light"
     },
     "output_type": "display_data"
    }
   ],
   "source": [
    "# show the accuracy\n",
    "plt.plot(np.arange(len(train_accu)), train_accu)"
   ]
  },
  {
   "cell_type": "code",
   "execution_count": 10,
   "metadata": {},
   "outputs": [],
   "source": [
    "# close the TensorBoard output stream\n",
    "writer.close()"
   ]
  },
  {
   "cell_type": "code",
   "execution_count": 11,
   "metadata": {},
   "outputs": [
    {
     "name": "stdout",
     "output_type": "stream",
     "text": [
      "The accuracy of the network is 98.072 %\n"
     ]
    }
   ],
   "source": [
    "#ALL THE CODE IN THIS CELL ARE WRITE BY MY SELF#\n",
    "# Start testing : set net to train model\n",
    "correct = 0\n",
    "total = 0\n",
    "\n",
    "# deactivate the autograd engine\n",
    "with torch.no_grad():\n",
    "    \n",
    "    # do testing iteration\n",
    "    #for data in testingloader:\n",
    "        \n",
    "        # get the input and its label\n",
    "        #images, labels = data\n",
    "        #images, labels = images.to(device), labels.to(device)\n",
    "    for i, (inputs, labels) in enumerate(trainingloader, 0):\n",
    "        \n",
    "        # get the input and its label\n",
    "        inputs = inputs.to(device)\n",
    "        labels = labels.to(device)\n",
    "        \n",
    "        # forward step\n",
    "        outputs = net(inputs)\n",
    "        \n",
    "        # compute accuracy\n",
    "        _, predicted = torch.max(outputs.data, 1)\n",
    "        total = total + labels.size(0)\n",
    "        correct = correct + (predicted == labels).sum().item()\n",
    "\n",
    "# Finish Testing\n",
    "result_testing_accuracy = correct / total * 100.0\n",
    "print('The accuracy of the network is %.3f %%' % result_testing_accuracy)"
   ]
  },
  {
   "cell_type": "code",
   "execution_count": 12,
   "metadata": {},
   "outputs": [
    {
     "name": "stdout",
     "output_type": "stream",
     "text": [
      "[Configuration]\n",
      "learning rate = 0.001000\n",
      "batch size = 100\n",
      "epoch = 199\n",
      "\n",
      "[Expirement Result]\n",
      "training time = 2061.710620 sec\n",
      "training accuracy = 97.652 %\n",
      "testing accuracy =  98.072 %\n"
     ]
    }
   ],
   "source": [
    "print('[Configuration]')\n",
    "print('learning rate = %3f' % learning_rate )\n",
    "print('batch size = %d' % batch_size )\n",
    "print('epoch = %d' % epoch )\n",
    "print('')\n",
    "print('[Expirement Result]')\n",
    "print('training time = %3f sec' % result_training_time )\n",
    "print('training accuracy = %.3f %%' %result_training_accuracy )\n",
    "print('testing accuracy =  %.3f %%' % (100.0 * correct / total))\n"
   ]
  },
  {
   "cell_type": "code",
   "execution_count": null,
   "metadata": {},
   "outputs": [],
   "source": []
  }
 ],
 "metadata": {
  "kernelspec": {
   "display_name": "Python 3",
   "language": "python",
   "name": "python3"
  },
  "language_info": {
   "codemirror_mode": {
    "name": "ipython",
    "version": 3
   },
   "file_extension": ".py",
   "mimetype": "text/x-python",
   "name": "python",
   "nbconvert_exporter": "python",
   "pygments_lexer": "ipython3",
   "version": "3.6.7"
  }
 },
 "nbformat": 4,
 "nbformat_minor": 2
}
