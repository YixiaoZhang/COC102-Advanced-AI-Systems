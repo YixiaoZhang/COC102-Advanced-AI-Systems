{
 "cells": [
  {
   "cell_type": "markdown",
   "metadata": {},
   "source": [
    "# 18COC102 -  Advanced Artificial Intelligence Systems - Coursework"
   ]
  },
  {
   "cell_type": "markdown",
   "metadata": {},
   "source": [
    "<hr>\n",
    "<p style='color:red'>&nbsp;&nbsp;&nbsp;&nbsp;&nbsp;Experiment D1</p>\n",
    "<hr>\n"
   ]
  },
  {
   "cell_type": "code",
   "execution_count": 1,
   "metadata": {},
   "outputs": [
    {
     "name": "stdout",
     "output_type": "stream",
     "text": [
      "Using matplotlib backend: agg\n",
      "Populating the interactive namespace from numpy and matplotlib\n",
      "CPython 3.6.7\n",
      "IPython 7.2.0\n",
      "\n",
      "numpy 1.15.4\n",
      "torch 0.4.1\n",
      "torchvision 0.2.1\n"
     ]
    }
   ],
   "source": [
    "%pylab\n",
    "%matplotlib inline\n",
    "%load_ext watermark\n",
    "%watermark -v -p numpy,torch,torchvision"
   ]
  },
  {
   "cell_type": "code",
   "execution_count": 2,
   "metadata": {},
   "outputs": [],
   "source": [
    "# import all dependencies\n",
    "import torch\n",
    "import torch.nn as nn\n",
    "import torch.nn.functional as F\n",
    "import torchvision\n",
    "import torchvision.transforms as transforms\n",
    "import torch.optim as optim\n",
    "import time\n",
    "import os\n",
    "from tensorboardX import SummaryWriter"
   ]
  },
  {
   "cell_type": "code",
   "execution_count": 3,
   "metadata": {},
   "outputs": [],
   "source": [
    "#implement the network by myself#\n",
    "\n",
    "class LeNet(nn.Module):\n",
    "    \n",
    "    def __init__(self):\n",
    "        \n",
    "        super(LeNet, self).__init__()\n",
    "        self.conv1 = nn.Conv2d(3, 6, 5)\n",
    "        self.relu1 = nn.ReLU()\n",
    "        self.pool1  = nn.MaxPool2d(2, 2)\n",
    "        \n",
    "        self.conv2 = nn.Conv2d(6, 16, 5)\n",
    "        self.relu2 = nn.ReLU()\n",
    "        self.pool2  = nn.MaxPool2d(2, 2)\n",
    "        \n",
    "        self.fc1   = nn.Linear(16 * 5 * 5, 120)\n",
    "        self.relu3 = nn.ReLU()\n",
    "        self.fc2   = nn.Linear(120, 84)\n",
    "        self.relu4 = nn.ReLU()\n",
    "        self.fc3   = nn.Linear(84, 10)\n",
    "\n",
    "        \n",
    "    def forward(self, x):\n",
    "        \n",
    "        x = self.conv1(x)\n",
    "        x = self.relu1(x)\n",
    "        x = self.pool1(x)\n",
    "        \n",
    "        x = self.conv2(x)\n",
    "        x = self.relu2(x)\n",
    "        x = self.pool2(x)\n",
    "        \n",
    "        x = x.view(-1, 16 * 5 * 5)\n",
    "        \n",
    "        x = self.fc1(x)\n",
    "        x = self.relu3(x)\n",
    "        x = self.fc2(x)\n",
    "        x = self.relu4(x)\n",
    "        x = self.fc3(x)\n",
    "        \n",
    "        return x"
   ]
  },
  {
   "cell_type": "code",
   "execution_count": 4,
   "metadata": {},
   "outputs": [],
   "source": [
    "# parameters\n",
    "learning_rate=0.001\n",
    "batch_size=100\n",
    "epoch=200\n",
    "workers=2"
   ]
  },
  {
   "cell_type": "code",
   "execution_count": 5,
   "metadata": {},
   "outputs": [],
   "source": [
    "# set GPU \n",
    "device = torch.device(\"cuda:0\")\n",
    "# set Netwrok\n",
    "net = LeNet()\n",
    "net = net.to(device)\n",
    "# set optimizer\n",
    "optimizer = optim.Adam(net.parameters(), lr=learning_rate)\n",
    "# set loss function\n",
    "loss = nn.CrossEntropyLoss()"
   ]
  },
  {
   "cell_type": "code",
   "execution_count": 6,
   "metadata": {},
   "outputs": [
    {
     "name": "stdout",
     "output_type": "stream",
     "text": [
      "Files already downloaded and verified\n",
      "Files already downloaded and verified\n"
     ]
    }
   ],
   "source": [
    "# dataloader refer source [2]\n",
    "\n",
    "# load training dataset\n",
    "trainingset = torchvision.datasets.CIFAR10(root='./data', train=True, download=True, \n",
    "                                           transform=transforms.ToTensor())\n",
    "\n",
    "trainingloader = torch.utils.data.DataLoader(trainingset, batch_size=batch_size,shuffle=True, \n",
    "                                             num_workers=workers)\n",
    "# load testing dataset\n",
    "testingset = torchvision.datasets.CIFAR10(root='./data', train=False,\n",
    "                                       download=True, transform=transforms.ToTensor())\n",
    "\n",
    "testingloader = torch.utils.data.DataLoader(testingset, batch_size=batch_size,\n",
    "                                         shuffle=False, num_workers=workers)\n",
    "\n",
    "#end of source [2]\n",
    "#source [2] https://pytorch.org/tutorials/beginner/deep_learning_60min_blitz.html"
   ]
  },
  {
   "cell_type": "code",
   "execution_count": 7,
   "metadata": {},
   "outputs": [
    {
     "name": "stdout",
     "output_type": "stream",
     "text": [
      "[epoch 0]  Loss: 0.1843  Accuracy: 31.468 %\n",
      "[epoch 1]  Loss: 0.1556  Accuracy: 43.194 %\n",
      "[epoch 2]  Loss: 0.1425  Accuracy: 48.300 %\n",
      "[epoch 3]  Loss: 0.1341  Accuracy: 51.582 %\n",
      "[epoch 4]  Loss: 0.1283  Accuracy: 53.984 %\n",
      "[epoch 5]  Loss: 0.1228  Accuracy: 56.038 %\n",
      "[epoch 6]  Loss: 0.1193  Accuracy: 57.558 %\n",
      "[epoch 7]  Loss: 0.1154  Accuracy: 59.170 %\n",
      "[epoch 8]  Loss: 0.1119  Accuracy: 60.542 %\n",
      "[epoch 9]  Loss: 0.1090  Accuracy: 61.516 %\n",
      "[epoch 10]  Loss: 0.1063  Accuracy: 62.502 %\n",
      "[epoch 11]  Loss: 0.1034  Accuracy: 63.522 %\n",
      "[epoch 12]  Loss: 0.1008  Accuracy: 64.452 %\n",
      "[epoch 13]  Loss: 0.0987  Accuracy: 65.018 %\n",
      "[epoch 14]  Loss: 0.0961  Accuracy: 65.916 %\n",
      "[epoch 15]  Loss: 0.0949  Accuracy: 66.600 %\n",
      "[epoch 16]  Loss: 0.0926  Accuracy: 67.242 %\n",
      "[epoch 17]  Loss: 0.0910  Accuracy: 68.048 %\n",
      "[epoch 18]  Loss: 0.0891  Accuracy: 68.608 %\n",
      "[epoch 19]  Loss: 0.0878  Accuracy: 68.906 %\n",
      "[epoch 20]  Loss: 0.0857  Accuracy: 69.774 %\n",
      "[epoch 21]  Loss: 0.0840  Accuracy: 70.320 %\n",
      "[epoch 22]  Loss: 0.0831  Accuracy: 70.606 %\n",
      "[epoch 23]  Loss: 0.0819  Accuracy: 71.206 %\n",
      "[epoch 24]  Loss: 0.0805  Accuracy: 71.510 %\n",
      "[epoch 25]  Loss: 0.0789  Accuracy: 72.230 %\n",
      "[epoch 26]  Loss: 0.0770  Accuracy: 72.790 %\n",
      "[epoch 27]  Loss: 0.0763  Accuracy: 73.066 %\n",
      "[epoch 28]  Loss: 0.0755  Accuracy: 72.966 %\n",
      "[epoch 29]  Loss: 0.0742  Accuracy: 73.916 %\n",
      "[epoch 30]  Loss: 0.0730  Accuracy: 74.128 %\n",
      "[epoch 31]  Loss: 0.0721  Accuracy: 74.644 %\n",
      "[epoch 32]  Loss: 0.0711  Accuracy: 74.944 %\n",
      "[epoch 33]  Loss: 0.0701  Accuracy: 75.334 %\n",
      "[epoch 34]  Loss: 0.0689  Accuracy: 75.770 %\n",
      "[epoch 35]  Loss: 0.0681  Accuracy: 76.028 %\n",
      "[epoch 36]  Loss: 0.0670  Accuracy: 76.084 %\n",
      "[epoch 37]  Loss: 0.0670  Accuracy: 76.422 %\n",
      "[epoch 38]  Loss: 0.0653  Accuracy: 76.978 %\n",
      "[epoch 39]  Loss: 0.0643  Accuracy: 77.384 %\n",
      "[epoch 40]  Loss: 0.0639  Accuracy: 77.562 %\n",
      "[epoch 41]  Loss: 0.0633  Accuracy: 77.430 %\n",
      "[epoch 42]  Loss: 0.0621  Accuracy: 78.184 %\n",
      "[epoch 43]  Loss: 0.0613  Accuracy: 78.010 %\n",
      "[epoch 44]  Loss: 0.0604  Accuracy: 78.582 %\n",
      "[epoch 45]  Loss: 0.0592  Accuracy: 78.918 %\n",
      "[epoch 46]  Loss: 0.0592  Accuracy: 78.886 %\n",
      "[epoch 47]  Loss: 0.0587  Accuracy: 79.056 %\n",
      "[epoch 48]  Loss: 0.0575  Accuracy: 79.630 %\n",
      "[epoch 49]  Loss: 0.0564  Accuracy: 80.006 %\n",
      "[epoch 50]  Loss: 0.0564  Accuracy: 79.850 %\n",
      "[epoch 51]  Loss: 0.0557  Accuracy: 80.232 %\n",
      "[epoch 52]  Loss: 0.0542  Accuracy: 80.702 %\n",
      "[epoch 53]  Loss: 0.0544  Accuracy: 80.614 %\n",
      "[epoch 54]  Loss: 0.0533  Accuracy: 80.986 %\n",
      "[epoch 55]  Loss: 0.0526  Accuracy: 81.174 %\n",
      "[epoch 56]  Loss: 0.0525  Accuracy: 81.286 %\n",
      "[epoch 57]  Loss: 0.0517  Accuracy: 81.582 %\n",
      "[epoch 58]  Loss: 0.0510  Accuracy: 81.852 %\n",
      "[epoch 59]  Loss: 0.0505  Accuracy: 81.764 %\n",
      "[epoch 60]  Loss: 0.0496  Accuracy: 82.274 %\n",
      "[epoch 61]  Loss: 0.0491  Accuracy: 82.396 %\n",
      "[epoch 62]  Loss: 0.0487  Accuracy: 82.564 %\n",
      "[epoch 63]  Loss: 0.0483  Accuracy: 82.732 %\n",
      "[epoch 64]  Loss: 0.0481  Accuracy: 82.602 %\n",
      "[epoch 65]  Loss: 0.0473  Accuracy: 83.098 %\n",
      "[epoch 66]  Loss: 0.0464  Accuracy: 83.444 %\n",
      "[epoch 67]  Loss: 0.0457  Accuracy: 83.630 %\n",
      "[epoch 68]  Loss: 0.0452  Accuracy: 83.768 %\n",
      "[epoch 69]  Loss: 0.0456  Accuracy: 83.660 %\n",
      "[epoch 70]  Loss: 0.0450  Accuracy: 83.816 %\n",
      "[epoch 71]  Loss: 0.0441  Accuracy: 84.214 %\n",
      "[epoch 72]  Loss: 0.0435  Accuracy: 84.286 %\n",
      "[epoch 73]  Loss: 0.0437  Accuracy: 84.284 %\n",
      "[epoch 74]  Loss: 0.0431  Accuracy: 84.486 %\n",
      "[epoch 75]  Loss: 0.0420  Accuracy: 84.878 %\n",
      "[epoch 76]  Loss: 0.0420  Accuracy: 84.992 %\n",
      "[epoch 77]  Loss: 0.0411  Accuracy: 85.260 %\n",
      "[epoch 78]  Loss: 0.0415  Accuracy: 85.022 %\n",
      "[epoch 79]  Loss: 0.0415  Accuracy: 85.068 %\n",
      "[epoch 80]  Loss: 0.0407  Accuracy: 85.424 %\n",
      "[epoch 81]  Loss: 0.0403  Accuracy: 85.470 %\n",
      "[epoch 82]  Loss: 0.0395  Accuracy: 85.954 %\n",
      "[epoch 83]  Loss: 0.0388  Accuracy: 86.092 %\n",
      "[epoch 84]  Loss: 0.0385  Accuracy: 86.220 %\n",
      "[epoch 85]  Loss: 0.0389  Accuracy: 85.990 %\n",
      "[epoch 86]  Loss: 0.0384  Accuracy: 86.120 %\n",
      "[epoch 87]  Loss: 0.0388  Accuracy: 85.962 %\n",
      "[epoch 88]  Loss: 0.0382  Accuracy: 86.194 %\n",
      "[epoch 89]  Loss: 0.0374  Accuracy: 86.374 %\n",
      "[epoch 90]  Loss: 0.0374  Accuracy: 86.532 %\n",
      "[epoch 91]  Loss: 0.0359  Accuracy: 87.058 %\n",
      "[epoch 92]  Loss: 0.0363  Accuracy: 86.870 %\n",
      "[epoch 93]  Loss: 0.0368  Accuracy: 86.694 %\n",
      "[epoch 94]  Loss: 0.0361  Accuracy: 86.842 %\n",
      "[epoch 95]  Loss: 0.0354  Accuracy: 87.114 %\n",
      "[epoch 96]  Loss: 0.0351  Accuracy: 87.432 %\n",
      "[epoch 97]  Loss: 0.0352  Accuracy: 87.370 %\n",
      "[epoch 98]  Loss: 0.0341  Accuracy: 87.710 %\n",
      "[epoch 99]  Loss: 0.0344  Accuracy: 87.404 %\n",
      "[epoch 100]  Loss: 0.0339  Accuracy: 87.680 %\n",
      "[epoch 101]  Loss: 0.0343  Accuracy: 87.562 %\n",
      "[epoch 102]  Loss: 0.0336  Accuracy: 87.758 %\n",
      "[epoch 103]  Loss: 0.0336  Accuracy: 87.946 %\n",
      "[epoch 104]  Loss: 0.0332  Accuracy: 88.126 %\n",
      "[epoch 105]  Loss: 0.0335  Accuracy: 87.840 %\n",
      "[epoch 106]  Loss: 0.0325  Accuracy: 88.244 %\n",
      "[epoch 107]  Loss: 0.0317  Accuracy: 88.520 %\n",
      "[epoch 108]  Loss: 0.0330  Accuracy: 87.920 %\n",
      "[epoch 109]  Loss: 0.0317  Accuracy: 88.446 %\n",
      "[epoch 110]  Loss: 0.0321  Accuracy: 88.246 %\n",
      "[epoch 111]  Loss: 0.0315  Accuracy: 88.436 %\n",
      "[epoch 112]  Loss: 0.0317  Accuracy: 88.410 %\n",
      "[epoch 113]  Loss: 0.0318  Accuracy: 88.508 %\n",
      "[epoch 114]  Loss: 0.0304  Accuracy: 88.954 %\n",
      "[epoch 115]  Loss: 0.0300  Accuracy: 89.268 %\n",
      "[epoch 116]  Loss: 0.0310  Accuracy: 88.742 %\n",
      "[epoch 117]  Loss: 0.0299  Accuracy: 89.130 %\n",
      "[epoch 118]  Loss: 0.0300  Accuracy: 89.198 %\n",
      "[epoch 119]  Loss: 0.0287  Accuracy: 89.676 %\n",
      "[epoch 120]  Loss: 0.0296  Accuracy: 89.268 %\n",
      "[epoch 121]  Loss: 0.0290  Accuracy: 89.528 %\n",
      "[epoch 122]  Loss: 0.0286  Accuracy: 89.524 %\n",
      "[epoch 123]  Loss: 0.0285  Accuracy: 89.608 %\n",
      "[epoch 124]  Loss: 0.0295  Accuracy: 89.304 %\n",
      "[epoch 125]  Loss: 0.0285  Accuracy: 89.650 %\n",
      "[epoch 126]  Loss: 0.0300  Accuracy: 89.024 %\n",
      "[epoch 127]  Loss: 0.0277  Accuracy: 89.964 %\n",
      "[epoch 128]  Loss: 0.0266  Accuracy: 90.394 %\n",
      "[epoch 129]  Loss: 0.0275  Accuracy: 89.958 %\n",
      "[epoch 130]  Loss: 0.0269  Accuracy: 90.114 %\n",
      "[epoch 131]  Loss: 0.0272  Accuracy: 89.938 %\n",
      "[epoch 132]  Loss: 0.0282  Accuracy: 89.732 %\n",
      "[epoch 133]  Loss: 0.0268  Accuracy: 90.238 %\n",
      "[epoch 134]  Loss: 0.0272  Accuracy: 90.110 %\n",
      "[epoch 135]  Loss: 0.0267  Accuracy: 90.288 %\n",
      "[epoch 136]  Loss: 0.0263  Accuracy: 90.362 %\n",
      "[epoch 137]  Loss: 0.0266  Accuracy: 90.348 %\n",
      "[epoch 138]  Loss: 0.0276  Accuracy: 89.914 %\n",
      "[epoch 139]  Loss: 0.0253  Accuracy: 90.846 %\n",
      "[epoch 140]  Loss: 0.0258  Accuracy: 90.634 %\n",
      "[epoch 141]  Loss: 0.0259  Accuracy: 90.644 %\n",
      "[epoch 142]  Loss: 0.0273  Accuracy: 90.184 %\n",
      "[epoch 143]  Loss: 0.0247  Accuracy: 90.950 %\n",
      "[epoch 144]  Loss: 0.0254  Accuracy: 90.732 %\n",
      "[epoch 145]  Loss: 0.0250  Accuracy: 90.868 %\n",
      "[epoch 146]  Loss: 0.0241  Accuracy: 91.226 %\n",
      "[epoch 147]  Loss: 0.0257  Accuracy: 90.556 %\n",
      "[epoch 148]  Loss: 0.0249  Accuracy: 90.908 %\n",
      "[epoch 149]  Loss: 0.0253  Accuracy: 90.724 %\n",
      "[epoch 150]  Loss: 0.0237  Accuracy: 91.316 %\n",
      "[epoch 151]  Loss: 0.0240  Accuracy: 91.180 %\n",
      "[epoch 152]  Loss: 0.0254  Accuracy: 90.784 %\n",
      "[epoch 153]  Loss: 0.0228  Accuracy: 91.846 %\n",
      "[epoch 154]  Loss: 0.0245  Accuracy: 91.006 %\n",
      "[epoch 155]  Loss: 0.0238  Accuracy: 91.322 %\n",
      "[epoch 156]  Loss: 0.0249  Accuracy: 90.866 %\n",
      "[epoch 157]  Loss: 0.0244  Accuracy: 91.296 %\n",
      "[epoch 158]  Loss: 0.0236  Accuracy: 91.342 %\n",
      "[epoch 159]  Loss: 0.0224  Accuracy: 91.902 %\n",
      "[epoch 160]  Loss: 0.0228  Accuracy: 91.710 %\n",
      "[epoch 161]  Loss: 0.0238  Accuracy: 91.392 %\n",
      "[epoch 162]  Loss: 0.0229  Accuracy: 91.592 %\n",
      "[epoch 163]  Loss: 0.0227  Accuracy: 91.726 %\n",
      "[epoch 164]  Loss: 0.0224  Accuracy: 91.828 %\n",
      "[epoch 165]  Loss: 0.0228  Accuracy: 91.754 %\n",
      "[epoch 166]  Loss: 0.0227  Accuracy: 91.686 %\n",
      "[epoch 167]  Loss: 0.0232  Accuracy: 91.564 %\n",
      "[epoch 168]  Loss: 0.0230  Accuracy: 91.592 %\n",
      "[epoch 169]  Loss: 0.0214  Accuracy: 92.186 %\n",
      "[epoch 170]  Loss: 0.0228  Accuracy: 91.610 %\n",
      "[epoch 171]  Loss: 0.0227  Accuracy: 91.734 %\n",
      "[epoch 172]  Loss: 0.0210  Accuracy: 92.232 %\n",
      "[epoch 173]  Loss: 0.0229  Accuracy: 91.710 %\n",
      "[epoch 174]  Loss: 0.0221  Accuracy: 91.912 %\n",
      "[epoch 175]  Loss: 0.0229  Accuracy: 91.604 %\n",
      "[epoch 176]  Loss: 0.0223  Accuracy: 91.922 %\n",
      "[epoch 177]  Loss: 0.0226  Accuracy: 91.754 %\n",
      "[epoch 178]  Loss: 0.0224  Accuracy: 91.990 %\n",
      "[epoch 179]  Loss: 0.0192  Accuracy: 93.002 %\n",
      "[epoch 180]  Loss: 0.0209  Accuracy: 92.508 %\n"
     ]
    },
    {
     "name": "stdout",
     "output_type": "stream",
     "text": [
      "[epoch 181]  Loss: 0.0214  Accuracy: 92.094 %\n",
      "[epoch 182]  Loss: 0.0202  Accuracy: 92.576 %\n",
      "[epoch 183]  Loss: 0.0213  Accuracy: 92.172 %\n",
      "[epoch 184]  Loss: 0.0215  Accuracy: 92.124 %\n",
      "[epoch 185]  Loss: 0.0213  Accuracy: 92.192 %\n",
      "[epoch 186]  Loss: 0.0204  Accuracy: 92.494 %\n",
      "[epoch 187]  Loss: 0.0195  Accuracy: 92.898 %\n",
      "[epoch 188]  Loss: 0.0208  Accuracy: 92.458 %\n",
      "[epoch 189]  Loss: 0.0217  Accuracy: 92.042 %\n",
      "[epoch 190]  Loss: 0.0215  Accuracy: 92.170 %\n",
      "[epoch 191]  Loss: 0.0194  Accuracy: 92.952 %\n",
      "[epoch 192]  Loss: 0.0207  Accuracy: 92.358 %\n",
      "[epoch 193]  Loss: 0.0209  Accuracy: 92.408 %\n",
      "[epoch 194]  Loss: 0.0201  Accuracy: 92.694 %\n",
      "[epoch 195]  Loss: 0.0183  Accuracy: 93.426 %\n",
      "[epoch 196]  Loss: 0.0204  Accuracy: 92.472 %\n",
      "[epoch 197]  Loss: 0.0198  Accuracy: 92.692 %\n",
      "[epoch 198]  Loss: 0.0198  Accuracy: 92.696 %\n",
      "[epoch 199]  Loss: 0.0189  Accuracy: 93.066 %\n",
      "Finished Training! Training process cost 2439.198984 sec\n"
     ]
    }
   ],
   "source": [
    "#ALL THE CODE IN THIS CELL ARE WRITE BY MY SELF#\n",
    "# Start training : set net to train model\n",
    "net.train()\n",
    "\n",
    "# make two arrays for saving matplotlib data\n",
    "train_loss = []\n",
    "train_accu = []\n",
    "accuracy = 0\n",
    "\n",
    "# get TersorBoard writer object\n",
    "writer = SummaryWriter(log_dir='Training')\n",
    "\n",
    "# Training process\n",
    "timestart = time.time()\n",
    "for epoch in range(0,epoch):\n",
    "    \n",
    "    # initialize loss,total,correct\n",
    "    loss_value = 0.0\n",
    "    total = 0\n",
    "    correct = 0\n",
    "    accuracy = 0\n",
    "    \n",
    "    # do iteration (total number of training images / batch size) times\n",
    "    for i, (inputs, labels) in enumerate(trainingloader, 0):\n",
    "        \n",
    "        # get the input and its label\n",
    "        inputs = inputs.to(device)\n",
    "        labels = labels.to(device)\n",
    "\n",
    "        # make gradients to 0\n",
    "        optimizer.zero_grad()\n",
    "\n",
    "        # forward step\n",
    "        outputs = net(inputs)\n",
    "        \n",
    "        # compute the loss\n",
    "        l = loss(outputs, labels)\n",
    "        \n",
    "        # backward step\n",
    "        l.backward()\n",
    "        \n",
    "        # optimize step\n",
    "        optimizer.step()\n",
    "\n",
    "        # compute loss\n",
    "        loss_value += l.item()\n",
    "        \n",
    "        # save to array in oder to output loss image at the end\n",
    "        train_loss.append(l.item())\n",
    "        \n",
    "        # write to tensorboard file\n",
    "        writer.add_scalars('/GroupD/Loss', {'D1': l.item()}, epoch)\n",
    "\n",
    "        \n",
    "        # compute accuracy\n",
    "        _, predicted = torch.max(outputs.data, 1)\n",
    "        total = total + labels.size(0)\n",
    "        correct = correct + (predicted == labels).sum().item()\n",
    "        accuracy = correct / total * 100.0\n",
    "        \n",
    "        # save to array in oder to output accuracy image at the end\n",
    "        train_accu.append(accuracy)\n",
    "        \n",
    "        # write to tensorboard file\n",
    "        writer.add_scalars('/GroupD/Accuracy', {'D1': accuracy}, epoch)\n",
    "        \n",
    "\n",
    "    loss_epoch = loss_value / (500000/batch_size)\n",
    "    # output the result of this epoch \n",
    "    print('[epoch %d]  Loss: %.4f  Accuracy: %.3f %%' %(epoch, loss_epoch , accuracy))\n",
    "\n",
    "    \n",
    "# Finish Training\n",
    "result_training_accuracy = accuracy\n",
    "result_training_time = (time.time()-timestart)\n",
    "print('Finished Training! Training process cost %3f sec' %result_training_time)"
   ]
  },
  {
   "cell_type": "code",
   "execution_count": 8,
   "metadata": {},
   "outputs": [
    {
     "data": {
      "text/plain": [
       "[<matplotlib.lines.Line2D at 0x7fe9dda916a0>]"
      ]
     },
     "execution_count": 8,
     "metadata": {},
     "output_type": "execute_result"
    },
    {
     "data": {
      "image/png": "[encoded data removed]",
      "text/plain": [
       "<Figure size 432x288 with 1 Axes>"
      ]
     },
     "metadata": {
      "needs_background": "light"
     },
     "output_type": "display_data"
    }
   ],
   "source": [
    "# show the loss\n",
    "plt.plot(np.arange(len(train_loss)), train_loss)"
   ]
  },
  {
   "cell_type": "code",
   "execution_count": 9,
   "metadata": {},
   "outputs": [
    {
     "data": {
      "text/plain": [
       "[<matplotlib.lines.Line2D at 0x7fe9de108470>]"
      ]
     },
     "execution_count": 9,
     "metadata": {},
     "output_type": "execute_result"
    },
    {
     "data": {
      "image/png": "[encoded data removed]",
      "text/plain": [
       "<Figure size 432x288 with 1 Axes>"
      ]
     },
     "metadata": {
      "needs_background": "light"
     },
     "output_type": "display_data"
    }
   ],
   "source": [
    "# show the accuracy\n",
    "plt.plot(np.arange(len(train_accu)), train_accu)"
   ]
  },
  {
   "cell_type": "code",
   "execution_count": 10,
   "metadata": {},
   "outputs": [],
   "source": [
    "# close the TensorBoard output stream\n",
    "writer.close()"
   ]
  },
  {
   "cell_type": "code",
   "execution_count": 11,
   "metadata": {},
   "outputs": [
    {
     "name": "stdout",
     "output_type": "stream",
     "text": [
      "The accuracy of the network is 93.394 %\n"
     ]
    }
   ],
   "source": [
    "#ALL THE CODE IN THIS CELL ARE WRITE BY MY SELF#\n",
    "# Start testing : set net to train model\n",
    "correct = 0\n",
    "total = 0\n",
    "\n",
    "# deactivate the autograd engine\n",
    "with torch.no_grad():\n",
    "    \n",
    "    # do testing iteration\n",
    "    #for data in testingloader:\n",
    "        \n",
    "        # get the input and its label\n",
    "        #images, labels = data\n",
    "        #images, labels = images.to(device), labels.to(device)\n",
    "    for i, (inputs, labels) in enumerate(trainingloader, 0):\n",
    "        \n",
    "        # get the input and its label\n",
    "        inputs = inputs.to(device)\n",
    "        labels = labels.to(device)\n",
    "        \n",
    "        # forward step\n",
    "        outputs = net(inputs)\n",
    "        \n",
    "        # compute accuracy\n",
    "        _, predicted = torch.max(outputs.data, 1)\n",
    "        total = total + labels.size(0)\n",
    "        correct = correct + (predicted == labels).sum().item()\n",
    "\n",
    "# Finish Testing\n",
    "result_testing_accuracy = correct / total * 100.0\n",
    "print('The accuracy of the network is %.3f %%' % result_testing_accuracy)"
   ]
  },
  {
   "cell_type": "code",
   "execution_count": 12,
   "metadata": {},
   "outputs": [
    {
     "name": "stdout",
     "output_type": "stream",
     "text": [
      "[Configuration]\n",
      "learning rate = 0.001000\n",
      "batch size = 100\n",
      "epoch = 199\n",
      "\n",
      "[Expirement Result]\n",
      "training time = 2439.198984 sec\n",
      "training accuracy = 93.066 %\n",
      "testing accuracy =  93.394 %\n"
     ]
    }
   ],
   "source": [
    "print('[Configuration]')\n",
    "print('learning rate = %3f' % learning_rate )\n",
    "print('batch size = %d' % batch_size )\n",
    "print('epoch = %d' % epoch )\n",
    "print('')\n",
    "print('[Expirement Result]')\n",
    "print('training time = %3f sec' % result_training_time )\n",
    "print('training accuracy = %.3f %%' %result_training_accuracy )\n",
    "print('testing accuracy =  %.3f %%' % (100.0 * correct / total))\n"
   ]
  },
  {
   "cell_type": "markdown",
   "metadata": {},
   "source": [
    "<b>click <a href='../Main.ipynb'>here</a> to return to Main.ipynb"
   ]
  },
  {
   "cell_type": "code",
   "execution_count": null,
   "metadata": {},
   "outputs": [],
   "source": []
  }
 ],
 "metadata": {
  "kernelspec": {
   "display_name": "Python 3",
   "language": "python",
   "name": "python3"
  },
  "language_info": {
   "codemirror_mode": {
    "name": "ipython",
    "version": 3
   },
   "file_extension": ".py",
   "mimetype": "text/x-python",
   "name": "python",
   "nbconvert_exporter": "python",
   "pygments_lexer": "ipython3",
   "version": "3.6.7"
  }
 },
 "nbformat": 4,
 "nbformat_minor": 2
}
