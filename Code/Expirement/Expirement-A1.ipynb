{
 "cells": [
  {
   "cell_type": "markdown",
   "metadata": {},
   "source": [
    "# 18COC102 -  Advanced Artificial Intelligence Systems - Coursework"
   ]
  },
  {
   "cell_type": "markdown",
   "metadata": {},
   "source": [
    "<hr>\n",
    "<p style='color:red'>&nbsp;&nbsp;&nbsp;&nbsp;&nbsp;Experiment A1</p>\n",
    "<hr>\n"
   ]
  },
  {
   "cell_type": "code",
   "execution_count": 1,
   "metadata": {},
   "outputs": [
    {
     "name": "stdout",
     "output_type": "stream",
     "text": [
      "Using matplotlib backend: agg\n",
      "Populating the interactive namespace from numpy and matplotlib\n",
      "CPython 3.6.7\n",
      "IPython 7.2.0\n",
      "\n",
      "numpy 1.15.4\n",
      "torch 0.4.1\n",
      "torchvision 0.2.1\n"
     ]
    }
   ],
   "source": [
    "%pylab\n",
    "%matplotlib inline\n",
    "%load_ext watermark\n",
    "%watermark -v -p numpy,torch,torchvision"
   ]
  },
  {
   "cell_type": "code",
   "execution_count": 2,
   "metadata": {},
   "outputs": [],
   "source": [
    "# import all dependencies\n",
    "import torch\n",
    "import torch.nn as nn\n",
    "import torch.nn.functional as F\n",
    "import torchvision\n",
    "import torchvision.transforms as transforms\n",
    "import torch.optim as optim\n",
    "import time\n",
    "import os\n",
    "from tensorboardX import SummaryWriter"
   ]
  },
  {
   "cell_type": "code",
   "execution_count": 3,
   "metadata": {},
   "outputs": [],
   "source": [
    "#implement the network by myself#\n",
    "\n",
    "# network\n",
    "class AlexNet(nn.Module):    \n",
    "    \n",
    "    def __init__(self):\n",
    "        \n",
    "        super(AlexNet, self).__init__()\n",
    "        self.conv1 = nn.Conv2d(3, 64, 11, stride=4, padding=5)\n",
    "        self.relu1 = nn.ReLU(inplace=True)\n",
    "        self.pool1 = nn.MaxPool2d(2, stride=2)\n",
    "        \n",
    "        self.conv2 = nn.Conv2d(64, 192, 5, padding=2)\n",
    "        self.relu2 = nn.ReLU(inplace=True)\n",
    "        self.pool2 = nn.MaxPool2d(2, stride=2)\n",
    "        \n",
    "        self.conv3 = nn.Conv2d(192, 384, 3, padding=1)\n",
    "        self.relu3 = nn.ReLU(inplace=True)\n",
    "        \n",
    "        self.conv4 = nn.Conv2d(384, 256, 3, padding=1)\n",
    "        self.relu4 = nn.ReLU(inplace=True)\n",
    "        \n",
    "        self.conv5 = nn.Conv2d(256, 256, 3, padding=1)\n",
    "        self.relu5 = nn.ReLU(inplace=True)\n",
    "        self.pool3 = nn.MaxPool2d(2, stride=2)\n",
    "        \n",
    "        self.fc1   = nn.Linear(256, 10)\n",
    "\n",
    "\n",
    "    def forward(self, x):\n",
    "        \n",
    "        x = self.conv1(x)\n",
    "        x = self.relu1(x)\n",
    "        x = self.pool1(x)\n",
    "        \n",
    "        x = self.conv2(x)\n",
    "        x = self.relu2(x)\n",
    "        x = self.pool2(x)\n",
    "        \n",
    "        x = self.conv3(x)\n",
    "        x = self.relu3(x)\n",
    "        \n",
    "        x = self.conv4(x)\n",
    "        x = self.relu4(x)\n",
    "        \n",
    "        x = self.conv5(x)\n",
    "        x = self.relu5(x)\n",
    "        x = self.pool3(x)\n",
    "        \n",
    "        x = x.view(x.size(0), -1)\n",
    "        x = self.fc1(x)\n",
    "        \n",
    "        return x"
   ]
  },
  {
   "cell_type": "code",
   "execution_count": 4,
   "metadata": {},
   "outputs": [],
   "source": [
    "# parameters\n",
    "learning_rate=0.0001\n",
    "batch_size=200\n",
    "epoch=150\n",
    "workers=2"
   ]
  },
  {
   "cell_type": "code",
   "execution_count": 5,
   "metadata": {},
   "outputs": [],
   "source": [
    "# set GPU \n",
    "device = torch.device(\"cuda:0\")\n",
    "# set Netwrok\n",
    "net = AlexNet()\n",
    "net = net.to(device)\n",
    "# set optimizer\n",
    "optimizer = optim.Adam(net.parameters(), lr=learning_rate)\n",
    "# set loss function\n",
    "loss = nn.CrossEntropyLoss()"
   ]
  },
  {
   "cell_type": "code",
   "execution_count": 6,
   "metadata": {},
   "outputs": [
    {
     "name": "stdout",
     "output_type": "stream",
     "text": [
      "Files already downloaded and verified\n",
      "Files already downloaded and verified\n"
     ]
    }
   ],
   "source": [
    "# dataloader refer source [2]\n",
    "\n",
    "# load training dataset\n",
    "trainingset = torchvision.datasets.CIFAR10(root='./data', train=True, download=True, \n",
    "                                           transform=transforms.ToTensor())\n",
    "\n",
    "trainingloader = torch.utils.data.DataLoader(trainingset, batch_size=batch_size,shuffle=True, \n",
    "                                             num_workers=workers)\n",
    "# load testing dataset\n",
    "testingset = torchvision.datasets.CIFAR10(root='./data', train=False,\n",
    "                                       download=True, transform=transforms.ToTensor())\n",
    "\n",
    "testingloader = torch.utils.data.DataLoader(testingset, batch_size=batch_size,\n",
    "                                         shuffle=False, num_workers=workers)\n",
    "\n",
    "#end of source [2]\n",
    "#source [2] https://pytorch.org/tutorials/beginner/deep_learning_60min_blitz.html"
   ]
  },
  {
   "cell_type": "code",
   "execution_count": 7,
   "metadata": {},
   "outputs": [
    {
     "name": "stdout",
     "output_type": "stream",
     "text": [
      "[epoch 0]  Loss: 0.2019  Accuracy: 23.212 %\n",
      "[epoch 1]  Loss: 0.1753  Accuracy: 34.488 %\n",
      "[epoch 2]  Loss: 0.1611  Accuracy: 40.528 %\n",
      "[epoch 3]  Loss: 0.1512  Accuracy: 44.352 %\n",
      "[epoch 4]  Loss: 0.1446  Accuracy: 47.076 %\n",
      "[epoch 5]  Loss: 0.1394  Accuracy: 49.076 %\n",
      "[epoch 6]  Loss: 0.1345  Accuracy: 51.016 %\n",
      "[epoch 7]  Loss: 0.1303  Accuracy: 52.536 %\n",
      "[epoch 8]  Loss: 0.1257  Accuracy: 54.254 %\n",
      "[epoch 9]  Loss: 0.1223  Accuracy: 55.846 %\n",
      "[epoch 10]  Loss: 0.1190  Accuracy: 57.204 %\n",
      "[epoch 11]  Loss: 0.1153  Accuracy: 58.566 %\n",
      "[epoch 12]  Loss: 0.1117  Accuracy: 59.850 %\n",
      "[epoch 13]  Loss: 0.1092  Accuracy: 60.842 %\n",
      "[epoch 14]  Loss: 0.1054  Accuracy: 62.096 %\n",
      "[epoch 15]  Loss: 0.1024  Accuracy: 63.418 %\n",
      "[epoch 16]  Loss: 0.0984  Accuracy: 64.806 %\n",
      "[epoch 17]  Loss: 0.0953  Accuracy: 66.038 %\n",
      "[epoch 18]  Loss: 0.0921  Accuracy: 67.138 %\n",
      "[epoch 19]  Loss: 0.0885  Accuracy: 68.600 %\n",
      "[epoch 20]  Loss: 0.0858  Accuracy: 69.426 %\n",
      "[epoch 21]  Loss: 0.0820  Accuracy: 70.960 %\n",
      "[epoch 22]  Loss: 0.0786  Accuracy: 72.070 %\n",
      "[epoch 23]  Loss: 0.0753  Accuracy: 73.206 %\n",
      "[epoch 24]  Loss: 0.0726  Accuracy: 74.344 %\n",
      "[epoch 25]  Loss: 0.0691  Accuracy: 75.562 %\n",
      "[epoch 26]  Loss: 0.0655  Accuracy: 76.868 %\n",
      "[epoch 27]  Loss: 0.0630  Accuracy: 77.650 %\n",
      "[epoch 28]  Loss: 0.0599  Accuracy: 78.710 %\n",
      "[epoch 29]  Loss: 0.0567  Accuracy: 79.988 %\n",
      "[epoch 30]  Loss: 0.0547  Accuracy: 80.672 %\n",
      "[epoch 31]  Loss: 0.0507  Accuracy: 82.198 %\n",
      "[epoch 32]  Loss: 0.0474  Accuracy: 83.420 %\n",
      "[epoch 33]  Loss: 0.0445  Accuracy: 84.402 %\n",
      "[epoch 34]  Loss: 0.0428  Accuracy: 85.022 %\n",
      "[epoch 35]  Loss: 0.0397  Accuracy: 86.250 %\n",
      "[epoch 36]  Loss: 0.0363  Accuracy: 87.484 %\n",
      "[epoch 37]  Loss: 0.0338  Accuracy: 88.360 %\n",
      "[epoch 38]  Loss: 0.0313  Accuracy: 89.178 %\n",
      "[epoch 39]  Loss: 0.0292  Accuracy: 89.908 %\n",
      "[epoch 40]  Loss: 0.0269  Accuracy: 90.666 %\n",
      "[epoch 41]  Loss: 0.0265  Accuracy: 90.680 %\n",
      "[epoch 42]  Loss: 0.0213  Accuracy: 92.956 %\n",
      "[epoch 43]  Loss: 0.0244  Accuracy: 91.530 %\n",
      "[epoch 44]  Loss: 0.0192  Accuracy: 93.704 %\n",
      "[epoch 45]  Loss: 0.0173  Accuracy: 94.212 %\n",
      "[epoch 46]  Loss: 0.0169  Accuracy: 94.226 %\n",
      "[epoch 47]  Loss: 0.0153  Accuracy: 94.846 %\n",
      "[epoch 48]  Loss: 0.0141  Accuracy: 95.278 %\n",
      "[epoch 49]  Loss: 0.0141  Accuracy: 95.266 %\n",
      "[epoch 50]  Loss: 0.0118  Accuracy: 96.230 %\n",
      "[epoch 51]  Loss: 0.0120  Accuracy: 95.994 %\n",
      "[epoch 52]  Loss: 0.0106  Accuracy: 96.422 %\n",
      "[epoch 53]  Loss: 0.0080  Accuracy: 97.494 %\n",
      "[epoch 54]  Loss: 0.0119  Accuracy: 95.842 %\n",
      "[epoch 55]  Loss: 0.0082  Accuracy: 97.348 %\n",
      "[epoch 56]  Loss: 0.0074  Accuracy: 97.626 %\n",
      "[epoch 57]  Loss: 0.0090  Accuracy: 96.902 %\n",
      "[epoch 58]  Loss: 0.0110  Accuracy: 96.182 %\n",
      "[epoch 59]  Loss: 0.0038  Accuracy: 99.044 %\n",
      "[epoch 60]  Loss: 0.0077  Accuracy: 97.422 %\n",
      "[epoch 61]  Loss: 0.0058  Accuracy: 98.184 %\n",
      "[epoch 62]  Loss: 0.0061  Accuracy: 97.986 %\n",
      "[epoch 63]  Loss: 0.0106  Accuracy: 96.196 %\n",
      "[epoch 64]  Loss: 0.0083  Accuracy: 97.074 %\n",
      "[epoch 65]  Loss: 0.0040  Accuracy: 98.790 %\n",
      "[epoch 66]  Loss: 0.0028  Accuracy: 99.256 %\n",
      "[epoch 67]  Loss: 0.0098  Accuracy: 96.596 %\n",
      "[epoch 68]  Loss: 0.0021  Accuracy: 99.488 %\n",
      "[epoch 69]  Loss: 0.0012  Accuracy: 99.836 %\n",
      "[epoch 70]  Loss: 0.0039  Accuracy: 98.882 %\n",
      "[epoch 71]  Loss: 0.0141  Accuracy: 94.976 %\n",
      "[epoch 72]  Loss: 0.0037  Accuracy: 98.820 %\n",
      "[epoch 73]  Loss: 0.0021  Accuracy: 99.458 %\n",
      "[epoch 74]  Loss: 0.0006  Accuracy: 99.926 %\n",
      "[epoch 75]  Loss: 0.0003  Accuracy: 99.990 %\n",
      "[epoch 76]  Loss: 0.0003  Accuracy: 99.988 %\n",
      "[epoch 77]  Loss: 0.0002  Accuracy: 100.000 %\n",
      "[epoch 78]  Loss: 0.0001  Accuracy: 99.994 %\n",
      "[epoch 79]  Loss: 0.0193  Accuracy: 94.664 %\n",
      "[epoch 80]  Loss: 0.0067  Accuracy: 97.658 %\n",
      "[epoch 81]  Loss: 0.0074  Accuracy: 97.396 %\n",
      "[epoch 82]  Loss: 0.0030  Accuracy: 99.086 %\n",
      "[epoch 83]  Loss: 0.0054  Accuracy: 98.098 %\n",
      "[epoch 84]  Loss: 0.0052  Accuracy: 98.152 %\n",
      "[epoch 85]  Loss: 0.0071  Accuracy: 97.498 %\n",
      "[epoch 86]  Loss: 0.0065  Accuracy: 97.812 %\n",
      "[epoch 87]  Loss: 0.0016  Accuracy: 99.578 %\n",
      "[epoch 88]  Loss: 0.0004  Accuracy: 99.980 %\n",
      "[epoch 89]  Loss: 0.0001  Accuracy: 99.998 %\n",
      "[epoch 90]  Loss: 0.0001  Accuracy: 100.000 %\n",
      "[epoch 91]  Loss: 0.0001  Accuracy: 100.000 %\n",
      "[epoch 92]  Loss: 0.0001  Accuracy: 100.000 %\n",
      "[epoch 93]  Loss: 0.0001  Accuracy: 100.000 %\n",
      "[epoch 94]  Loss: 0.0000  Accuracy: 100.000 %\n",
      "[epoch 95]  Loss: 0.0000  Accuracy: 100.000 %\n",
      "[epoch 96]  Loss: 0.0000  Accuracy: 100.000 %\n",
      "[epoch 97]  Loss: 0.0000  Accuracy: 100.000 %\n",
      "[epoch 98]  Loss: 0.0000  Accuracy: 100.000 %\n",
      "[epoch 99]  Loss: 0.0000  Accuracy: 100.000 %\n",
      "[epoch 100]  Loss: 0.0000  Accuracy: 100.000 %\n",
      "[epoch 101]  Loss: 0.0000  Accuracy: 100.000 %\n",
      "[epoch 102]  Loss: 0.0000  Accuracy: 100.000 %\n",
      "[epoch 103]  Loss: 0.0000  Accuracy: 100.000 %\n",
      "[epoch 104]  Loss: 0.0000  Accuracy: 100.000 %\n",
      "[epoch 105]  Loss: 0.0000  Accuracy: 100.000 %\n",
      "[epoch 106]  Loss: 0.0226  Accuracy: 98.620 %\n",
      "[epoch 107]  Loss: 0.1009  Accuracy: 65.548 %\n",
      "[epoch 108]  Loss: 0.0308  Accuracy: 88.810 %\n",
      "[epoch 109]  Loss: 0.0125  Accuracy: 95.560 %\n",
      "[epoch 110]  Loss: 0.0057  Accuracy: 98.128 %\n",
      "[epoch 111]  Loss: 0.0050  Accuracy: 98.348 %\n",
      "[epoch 112]  Loss: 0.0058  Accuracy: 97.958 %\n",
      "[epoch 113]  Loss: 0.0053  Accuracy: 98.128 %\n",
      "[epoch 114]  Loss: 0.0023  Accuracy: 99.338 %\n",
      "[epoch 115]  Loss: 0.0074  Accuracy: 97.376 %\n",
      "[epoch 116]  Loss: 0.0037  Accuracy: 98.816 %\n",
      "[epoch 117]  Loss: 0.0005  Accuracy: 99.946 %\n",
      "[epoch 118]  Loss: 0.0002  Accuracy: 99.998 %\n",
      "[epoch 119]  Loss: 0.0001  Accuracy: 100.000 %\n",
      "[epoch 120]  Loss: 0.0001  Accuracy: 100.000 %\n",
      "[epoch 121]  Loss: 0.0001  Accuracy: 100.000 %\n",
      "[epoch 122]  Loss: 0.0000  Accuracy: 100.000 %\n",
      "[epoch 123]  Loss: 0.0000  Accuracy: 100.000 %\n",
      "[epoch 124]  Loss: 0.0000  Accuracy: 100.000 %\n",
      "[epoch 125]  Loss: 0.0000  Accuracy: 100.000 %\n",
      "[epoch 126]  Loss: 0.0000  Accuracy: 100.000 %\n",
      "[epoch 127]  Loss: 0.0000  Accuracy: 100.000 %\n",
      "[epoch 128]  Loss: 0.0000  Accuracy: 100.000 %\n",
      "[epoch 129]  Loss: 0.0000  Accuracy: 100.000 %\n",
      "[epoch 130]  Loss: 0.0000  Accuracy: 100.000 %\n",
      "[epoch 131]  Loss: 0.0000  Accuracy: 100.000 %\n",
      "[epoch 132]  Loss: 0.0000  Accuracy: 100.000 %\n",
      "[epoch 133]  Loss: 0.0000  Accuracy: 100.000 %\n",
      "[epoch 134]  Loss: 0.0000  Accuracy: 100.000 %\n",
      "[epoch 135]  Loss: 0.0824  Accuracy: 78.588 %\n",
      "[epoch 136]  Loss: 0.0667  Accuracy: 75.736 %\n",
      "[epoch 137]  Loss: 0.0210  Accuracy: 92.488 %\n",
      "[epoch 138]  Loss: 0.0071  Accuracy: 97.602 %\n",
      "[epoch 139]  Loss: 0.0033  Accuracy: 98.998 %\n",
      "[epoch 140]  Loss: 0.0033  Accuracy: 98.934 %\n",
      "[epoch 141]  Loss: 0.0036  Accuracy: 98.830 %\n",
      "[epoch 142]  Loss: 0.0068  Accuracy: 97.706 %\n",
      "[epoch 143]  Loss: 0.0031  Accuracy: 98.988 %\n",
      "[epoch 144]  Loss: 0.0024  Accuracy: 99.182 %\n",
      "[epoch 145]  Loss: 0.0029  Accuracy: 99.072 %\n",
      "[epoch 146]  Loss: 0.0032  Accuracy: 98.916 %\n",
      "[epoch 147]  Loss: 0.0040  Accuracy: 98.634 %\n",
      "[epoch 148]  Loss: 0.0058  Accuracy: 98.036 %\n",
      "[epoch 149]  Loss: 0.0021  Accuracy: 99.352 %\n",
      "Finished Training! Training process cost 1948.637126 sec\n"
     ]
    }
   ],
   "source": [
    "#ALL THE CODE IN THIS CELL ARE WRITE BY MY SELF#\n",
    "# Start training : set net to train model\n",
    "net.train()\n",
    "\n",
    "# make two arrays for saving matplotlib data\n",
    "train_loss = []\n",
    "train_accu = []\n",
    "accuracy = 0\n",
    "\n",
    "# get TersorBoard writer object\n",
    "writer = SummaryWriter(log_dir='Training')\n",
    "\n",
    "# Training process\n",
    "timestart = time.time()\n",
    "for epoch in range(0,epoch):\n",
    "    \n",
    "    # initialize loss,total,correct\n",
    "    loss_value = 0.0\n",
    "    total = 0\n",
    "    correct = 0\n",
    "    accuracy = 0\n",
    "    \n",
    "    # do iteration (total number of training images / batch size) times\n",
    "    for i, (inputs, labels) in enumerate(trainingloader, 0):\n",
    "        \n",
    "        # get the input and its label\n",
    "        inputs = inputs.to(device)\n",
    "        labels = labels.to(device)\n",
    "\n",
    "        # make gradients to 0\n",
    "        optimizer.zero_grad()\n",
    "\n",
    "        # forward step\n",
    "        outputs = net(inputs)\n",
    "        \n",
    "        # compute the loss\n",
    "        l = loss(outputs, labels)\n",
    "        \n",
    "        # backward step\n",
    "        l.backward()\n",
    "        \n",
    "        # optimize step\n",
    "        optimizer.step()\n",
    "\n",
    "        # compute loss\n",
    "        loss_value += l.item()\n",
    "        \n",
    "        # save to array in oder to output loss image at the end\n",
    "        train_loss.append(l.item())\n",
    "        \n",
    "        # write to tensorboard file\n",
    "        writer.add_scalars('/GroupA/Loss', {'A1(lr=0.0001)': l.item()}, epoch)\n",
    "\n",
    "        \n",
    "        # compute accuracy\n",
    "        _, predicted = torch.max(outputs.data, 1)\n",
    "        total = total + labels.size(0)\n",
    "        correct = correct + (predicted == labels).sum().item()\n",
    "        accuracy = correct / total * 100.0\n",
    "        \n",
    "        # save to array in oder to output accuracy image at the end\n",
    "        train_accu.append(accuracy)\n",
    "        \n",
    "        # write to tensorboard file\n",
    "        writer.add_scalars('/GroupA/Accuracy', {'A1(lr=0.0001)': accuracy}, epoch)\n",
    "        \n",
    "\n",
    "    loss_epoch = loss_value / (500000/batch_size)\n",
    "    # output the result of this epoch \n",
    "    print('[epoch %d]  Loss: %.4f  Accuracy: %.3f %%' %(epoch, loss_epoch , accuracy))\n",
    "\n",
    "    \n",
    "# Finish Training\n",
    "result_training_accuracy = accuracy\n",
    "result_training_time = (time.time()-timestart)\n",
    "print('Finished Training! Training process cost %3f sec' %result_training_time)"
   ]
  },
  {
   "cell_type": "code",
   "execution_count": 8,
   "metadata": {},
   "outputs": [
    {
     "data": {
      "text/plain": [
       "[<matplotlib.lines.Line2D at 0x7faa882dd668>]"
      ]
     },
     "execution_count": 8,
     "metadata": {},
     "output_type": "execute_result"
    },
    {
     "data": {
      "image/png": "[encoded data removed]",
      "text/plain": [
       "<Figure size 432x288 with 1 Axes>"
      ]
     },
     "metadata": {
      "needs_background": "light"
     },
     "output_type": "display_data"
    }
   ],
   "source": [
    "# show the loss\n",
    "plt.plot(np.arange(len(train_loss)), train_loss)"
   ]
  },
  {
   "cell_type": "code",
   "execution_count": 9,
   "metadata": {},
   "outputs": [
    {
     "data": {
      "text/plain": [
       "[<matplotlib.lines.Line2D at 0x7faa806f4390>]"
      ]
     },
     "execution_count": 9,
     "metadata": {},
     "output_type": "execute_result"
    },
    {
     "data": {
      "image/png": "[encoded data removed]",
      "text/plain": [
       "<Figure size 432x288 with 1 Axes>"
      ]
     },
     "metadata": {
      "needs_background": "light"
     },
     "output_type": "display_data"
    }
   ],
   "source": [
    "# show the accuracy\n",
    "plt.plot(np.arange(len(train_accu)), train_accu)"
   ]
  },
  {
   "cell_type": "code",
   "execution_count": 10,
   "metadata": {},
   "outputs": [],
   "source": [
    "# close the TensorBoard output stream\n",
    "writer.close()"
   ]
  },
  {
   "cell_type": "code",
   "execution_count": 12,
   "metadata": {},
   "outputs": [
    {
     "name": "stdout",
     "output_type": "stream",
     "text": [
      "The accuracy of the network is 99.752 %\n"
     ]
    }
   ],
   "source": [
    "#ALL THE CODE IN THIS CELL ARE WRITE BY MY SELF#\n",
    "# Start testing : set net to train model\n",
    "correct = 0\n",
    "total = 0\n",
    "\n",
    "# deactivate the autograd engine\n",
    "with torch.no_grad():\n",
    "    \n",
    "    # do testing iteration\n",
    "    #for data in testingloader:\n",
    "        \n",
    "        # get the input and its label\n",
    "        #images, labels = data\n",
    "        #images, labels = images.to(device), labels.to(device)\n",
    "    for i, (inputs, labels) in enumerate(trainingloader, 0):\n",
    "        \n",
    "        # get the input and its label\n",
    "        inputs = inputs.to(device)\n",
    "        labels = labels.to(device)\n",
    "        \n",
    "        # forward step\n",
    "        outputs = net(inputs)\n",
    "        \n",
    "        # compute accuracy\n",
    "        _, predicted = torch.max(outputs.data, 1)\n",
    "        total = total + labels.size(0)\n",
    "        correct = correct + (predicted == labels).sum().item()\n",
    "\n",
    "# Finish Testing\n",
    "result_testing_accuracy = correct / total * 100.0\n",
    "print('The accuracy of the network is %.3f %%' % result_testing_accuracy)"
   ]
  },
  {
   "cell_type": "code",
   "execution_count": 13,
   "metadata": {},
   "outputs": [
    {
     "name": "stdout",
     "output_type": "stream",
     "text": [
      "[Configuration]\n",
      "learning rate = 0.000100\n",
      "batch size = 200\n",
      "epoch = 149\n",
      "\n",
      "[Expirement Result]\n",
      "training time = 1948.637126 sec\n",
      "training accuracy = 99.352 %\n",
      "testing accuracy =  99.752 %\n"
     ]
    }
   ],
   "source": [
    "print('[Configuration]')\n",
    "print('learning rate = %3f' % learning_rate )\n",
    "print('batch size = %d' % batch_size )\n",
    "print('epoch = %d' % epoch )\n",
    "print('')\n",
    "print('[Expirement Result]')\n",
    "print('training time = %3f sec' % result_training_time )\n",
    "print('training accuracy = %.3f %%' %result_training_accuracy )\n",
    "print('testing accuracy =  %.3f %%' % (100.0 * correct / total))\n"
   ]
  },
  {
   "cell_type": "markdown",
   "metadata": {},
   "source": [
    "<b>click <a href='../Main.ipynb'>here</a> to return to Main.ipynb"
   ]
  },
  {
   "cell_type": "code",
   "execution_count": null,
   "metadata": {},
   "outputs": [],
   "source": []
  }
 ],
 "metadata": {
  "kernelspec": {
   "display_name": "Python 3",
   "language": "python",
   "name": "python3"
  },
  "language_info": {
   "codemirror_mode": {
    "name": "ipython",
    "version": 3
   },
   "file_extension": ".py",
   "mimetype": "text/x-python",
   "name": "python",
   "nbconvert_exporter": "python",
   "pygments_lexer": "ipython3",
   "version": "3.6.7"
  }
 },
 "nbformat": 4,
 "nbformat_minor": 2
}
