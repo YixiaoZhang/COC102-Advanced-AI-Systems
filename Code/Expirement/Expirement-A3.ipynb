{
 "cells": [
  {
   "cell_type": "markdown",
   "metadata": {},
   "source": [
    "# 18COC102 -  Advanced Artificial Intelligence Systems - Coursework"
   ]
  },
  {
   "cell_type": "markdown",
   "metadata": {},
   "source": [
    "<hr>\n",
    "<p style='color:red'>&nbsp;&nbsp;&nbsp;&nbsp;&nbsp;Experiment A3</p>\n",
    "<hr>\n"
   ]
  },
  {
   "cell_type": "code",
   "execution_count": 1,
   "metadata": {},
   "outputs": [
    {
     "name": "stdout",
     "output_type": "stream",
     "text": [
      "Using matplotlib backend: agg\n",
      "Populating the interactive namespace from numpy and matplotlib\n",
      "CPython 3.6.7\n",
      "IPython 7.2.0\n",
      "\n",
      "numpy 1.15.4\n",
      "torch 0.4.1\n",
      "torchvision 0.2.1\n"
     ]
    }
   ],
   "source": [
    "%pylab\n",
    "%matplotlib inline\n",
    "%load_ext watermark\n",
    "%watermark -v -p numpy,torch,torchvision"
   ]
  },
  {
   "cell_type": "code",
   "execution_count": 2,
   "metadata": {},
   "outputs": [],
   "source": [
    "# import all dependencies\n",
    "import torch\n",
    "import torch.nn as nn\n",
    "import torch.nn.functional as F\n",
    "import torchvision\n",
    "import torchvision.transforms as transforms\n",
    "import torch.optim as optim\n",
    "import time\n",
    "import os\n",
    "from tensorboardX import SummaryWriter"
   ]
  },
  {
   "cell_type": "code",
   "execution_count": 3,
   "metadata": {},
   "outputs": [],
   "source": [
    "#implement the network by myself#\n",
    "\n",
    "# network\n",
    "class AlexNet(nn.Module):    \n",
    "    \n",
    "    def __init__(self):\n",
    "        \n",
    "        super(AlexNet, self).__init__()\n",
    "        self.conv1 = nn.Conv2d(3, 64, 11, stride=4, padding=5)\n",
    "        self.relu1 = nn.ReLU(inplace=True)\n",
    "        self.pool1 = nn.MaxPool2d(2, stride=2)\n",
    "        \n",
    "        self.conv2 = nn.Conv2d(64, 192, 5, padding=2)\n",
    "        self.relu2 = nn.ReLU(inplace=True)\n",
    "        self.pool2 = nn.MaxPool2d(2, stride=2)\n",
    "        \n",
    "        self.conv3 = nn.Conv2d(192, 384, 3, padding=1)\n",
    "        self.relu3 = nn.ReLU(inplace=True)\n",
    "        \n",
    "        self.conv4 = nn.Conv2d(384, 256, 3, padding=1)\n",
    "        self.relu4 = nn.ReLU(inplace=True)\n",
    "        \n",
    "        self.conv5 = nn.Conv2d(256, 256, 3, padding=1)\n",
    "        self.relu5 = nn.ReLU(inplace=True)\n",
    "        self.pool3 = nn.MaxPool2d(2, stride=2)\n",
    "        \n",
    "        self.fc1   = nn.Linear(256, 10)\n",
    "\n",
    "\n",
    "    def forward(self, x):\n",
    "        \n",
    "        x = self.conv1(x)\n",
    "        x = self.relu1(x)\n",
    "        x = self.pool1(x)\n",
    "        \n",
    "        x = self.conv2(x)\n",
    "        x = self.relu2(x)\n",
    "        x = self.pool2(x)\n",
    "        \n",
    "        x = self.conv3(x)\n",
    "        x = self.relu3(x)\n",
    "        \n",
    "        x = self.conv4(x)\n",
    "        x = self.relu4(x)\n",
    "        \n",
    "        x = self.conv5(x)\n",
    "        x = self.relu5(x)\n",
    "        x = self.pool3(x)\n",
    "        \n",
    "        x = x.view(x.size(0), -1)\n",
    "        x = self.fc1(x)\n",
    "        \n",
    "        return x"
   ]
  },
  {
   "cell_type": "code",
   "execution_count": 4,
   "metadata": {},
   "outputs": [],
   "source": [
    "# parameters\n",
    "learning_rate=0.01\n",
    "batch_size=200\n",
    "epoch=150\n",
    "workers=2"
   ]
  },
  {
   "cell_type": "code",
   "execution_count": 5,
   "metadata": {},
   "outputs": [],
   "source": [
    "# set GPU \n",
    "device = torch.device(\"cuda:0\")\n",
    "# set Netwrok\n",
    "net = AlexNet()\n",
    "net = net.to(device)\n",
    "# set optimizer\n",
    "optimizer = optim.Adam(net.parameters(), lr=learning_rate)\n",
    "# set loss function\n",
    "loss = nn.CrossEntropyLoss()"
   ]
  },
  {
   "cell_type": "code",
   "execution_count": 6,
   "metadata": {},
   "outputs": [
    {
     "name": "stdout",
     "output_type": "stream",
     "text": [
      "Files already downloaded and verified\n",
      "Files already downloaded and verified\n"
     ]
    }
   ],
   "source": [
    "# dataloader refer source [2]\n",
    "\n",
    "# load training dataset\n",
    "trainingset = torchvision.datasets.CIFAR10(root='./data', train=True, download=True, \n",
    "                                           transform=transforms.ToTensor())\n",
    "\n",
    "trainingloader = torch.utils.data.DataLoader(trainingset, batch_size=batch_size,shuffle=True, \n",
    "                                             num_workers=workers)\n",
    "# load testing dataset\n",
    "testingset = torchvision.datasets.CIFAR10(root='./data', train=False,\n",
    "                                       download=True, transform=transforms.ToTensor())\n",
    "\n",
    "testingloader = torch.utils.data.DataLoader(testingset, batch_size=batch_size,\n",
    "                                         shuffle=False, num_workers=workers)\n",
    "\n",
    "#end of source [2]\n",
    "#source [2] https://pytorch.org/tutorials/beginner/deep_learning_60min_blitz.html"
   ]
  },
  {
   "cell_type": "code",
   "execution_count": 7,
   "metadata": {},
   "outputs": [
    {
     "name": "stdout",
     "output_type": "stream",
     "text": [
      "[epoch 0]  Loss: 0.2382  Accuracy: 23.500 %\n",
      "[epoch 1]  Loss: 0.1871  Accuracy: 31.160 %\n",
      "[epoch 2]  Loss: 0.1817  Accuracy: 33.740 %\n",
      "[epoch 3]  Loss: 0.1790  Accuracy: 35.174 %\n",
      "[epoch 4]  Loss: 0.1775  Accuracy: 35.824 %\n",
      "[epoch 5]  Loss: 0.1768  Accuracy: 36.000 %\n",
      "[epoch 6]  Loss: 0.1746  Accuracy: 36.954 %\n",
      "[epoch 7]  Loss: 0.1754  Accuracy: 36.658 %\n",
      "[epoch 8]  Loss: 0.1742  Accuracy: 37.074 %\n",
      "[epoch 9]  Loss: 0.1727  Accuracy: 37.622 %\n",
      "[epoch 10]  Loss: 0.1733  Accuracy: 37.554 %\n",
      "[epoch 11]  Loss: 0.1727  Accuracy: 37.824 %\n",
      "[epoch 12]  Loss: 0.1719  Accuracy: 37.940 %\n",
      "[epoch 13]  Loss: 0.1720  Accuracy: 38.048 %\n",
      "[epoch 14]  Loss: 0.1718  Accuracy: 38.044 %\n",
      "[epoch 15]  Loss: 0.1715  Accuracy: 38.228 %\n",
      "[epoch 16]  Loss: 0.1708  Accuracy: 38.540 %\n",
      "[epoch 17]  Loss: 0.1703  Accuracy: 38.814 %\n",
      "[epoch 18]  Loss: 0.1717  Accuracy: 37.978 %\n",
      "[epoch 19]  Loss: 0.1713  Accuracy: 38.360 %\n",
      "[epoch 20]  Loss: 0.1711  Accuracy: 38.352 %\n",
      "[epoch 21]  Loss: 0.1696  Accuracy: 38.812 %\n",
      "[epoch 22]  Loss: 0.1689  Accuracy: 39.288 %\n",
      "[epoch 23]  Loss: 0.1698  Accuracy: 38.832 %\n",
      "[epoch 24]  Loss: 0.1689  Accuracy: 39.144 %\n",
      "[epoch 25]  Loss: 0.1684  Accuracy: 39.130 %\n",
      "[epoch 26]  Loss: 0.1697  Accuracy: 38.864 %\n",
      "[epoch 27]  Loss: 0.1687  Accuracy: 39.286 %\n",
      "[epoch 28]  Loss: 0.1685  Accuracy: 39.334 %\n",
      "[epoch 29]  Loss: 0.1680  Accuracy: 39.426 %\n",
      "[epoch 30]  Loss: 0.1694  Accuracy: 39.142 %\n",
      "[epoch 31]  Loss: 0.1692  Accuracy: 39.216 %\n",
      "[epoch 32]  Loss: 0.1683  Accuracy: 39.452 %\n",
      "[epoch 33]  Loss: 0.1698  Accuracy: 39.084 %\n",
      "[epoch 34]  Loss: 0.1678  Accuracy: 39.510 %\n",
      "[epoch 35]  Loss: 0.1684  Accuracy: 39.468 %\n",
      "[epoch 36]  Loss: 0.1672  Accuracy: 39.732 %\n",
      "[epoch 37]  Loss: 0.1679  Accuracy: 39.490 %\n",
      "[epoch 38]  Loss: 0.1674  Accuracy: 40.000 %\n",
      "[epoch 39]  Loss: 0.1671  Accuracy: 39.992 %\n",
      "[epoch 40]  Loss: 0.1670  Accuracy: 40.010 %\n",
      "[epoch 41]  Loss: 0.1668  Accuracy: 39.910 %\n",
      "[epoch 42]  Loss: 0.1658  Accuracy: 40.366 %\n",
      "[epoch 43]  Loss: 0.1665  Accuracy: 40.398 %\n",
      "[epoch 44]  Loss: 0.1668  Accuracy: 40.292 %\n",
      "[epoch 45]  Loss: 0.1667  Accuracy: 40.364 %\n",
      "[epoch 46]  Loss: 0.1662  Accuracy: 40.462 %\n",
      "[epoch 47]  Loss: 0.1657  Accuracy: 40.632 %\n",
      "[epoch 48]  Loss: 0.1660  Accuracy: 40.370 %\n",
      "[epoch 49]  Loss: 0.1665  Accuracy: 40.002 %\n",
      "[epoch 50]  Loss: 0.1662  Accuracy: 40.518 %\n",
      "[epoch 51]  Loss: 0.1662  Accuracy: 40.464 %\n",
      "[epoch 52]  Loss: 0.1660  Accuracy: 40.288 %\n",
      "[epoch 53]  Loss: 0.1656  Accuracy: 40.918 %\n",
      "[epoch 54]  Loss: 0.1650  Accuracy: 41.010 %\n",
      "[epoch 55]  Loss: 0.1651  Accuracy: 40.864 %\n",
      "[epoch 56]  Loss: 0.1664  Accuracy: 40.554 %\n",
      "[epoch 57]  Loss: 0.1656  Accuracy: 40.750 %\n",
      "[epoch 58]  Loss: 0.1655  Accuracy: 40.756 %\n",
      "[epoch 59]  Loss: 0.1657  Accuracy: 40.446 %\n",
      "[epoch 60]  Loss: 0.1663  Accuracy: 40.476 %\n",
      "[epoch 61]  Loss: 0.1642  Accuracy: 41.226 %\n",
      "[epoch 62]  Loss: 0.1644  Accuracy: 40.978 %\n",
      "[epoch 63]  Loss: 0.1642  Accuracy: 41.382 %\n",
      "[epoch 64]  Loss: 0.1690  Accuracy: 39.860 %\n",
      "[epoch 65]  Loss: 0.1668  Accuracy: 40.350 %\n",
      "[epoch 66]  Loss: 0.1641  Accuracy: 41.206 %\n",
      "[epoch 67]  Loss: 0.1635  Accuracy: 41.658 %\n",
      "[epoch 68]  Loss: 0.1638  Accuracy: 41.578 %\n",
      "[epoch 69]  Loss: 0.1643  Accuracy: 41.088 %\n",
      "[epoch 70]  Loss: 0.1638  Accuracy: 41.488 %\n",
      "[epoch 71]  Loss: 0.1633  Accuracy: 41.742 %\n",
      "[epoch 72]  Loss: 0.1645  Accuracy: 41.282 %\n",
      "[epoch 73]  Loss: 0.1639  Accuracy: 41.426 %\n",
      "[epoch 74]  Loss: 0.1652  Accuracy: 40.950 %\n",
      "[epoch 75]  Loss: 0.1629  Accuracy: 41.798 %\n",
      "[epoch 76]  Loss: 0.1633  Accuracy: 41.792 %\n",
      "[epoch 77]  Loss: 0.1632  Accuracy: 41.584 %\n",
      "[epoch 78]  Loss: 0.1637  Accuracy: 41.700 %\n",
      "[epoch 79]  Loss: 0.1629  Accuracy: 41.852 %\n",
      "[epoch 80]  Loss: 0.1639  Accuracy: 41.624 %\n",
      "[epoch 81]  Loss: 0.1623  Accuracy: 41.982 %\n",
      "[epoch 82]  Loss: 0.1634  Accuracy: 42.010 %\n",
      "[epoch 83]  Loss: 0.1654  Accuracy: 41.148 %\n",
      "[epoch 84]  Loss: 0.1623  Accuracy: 42.366 %\n",
      "[epoch 85]  Loss: 0.1621  Accuracy: 42.110 %\n",
      "[epoch 86]  Loss: 0.1630  Accuracy: 41.644 %\n",
      "[epoch 87]  Loss: 0.1619  Accuracy: 42.496 %\n",
      "[epoch 88]  Loss: 0.1613  Accuracy: 42.556 %\n",
      "[epoch 89]  Loss: 0.1618  Accuracy: 42.520 %\n",
      "[epoch 90]  Loss: 0.1683  Accuracy: 40.034 %\n",
      "[epoch 91]  Loss: 0.1630  Accuracy: 42.110 %\n",
      "[epoch 92]  Loss: 0.1639  Accuracy: 42.224 %\n",
      "[epoch 93]  Loss: 0.1631  Accuracy: 41.842 %\n",
      "[epoch 94]  Loss: 0.1620  Accuracy: 42.328 %\n",
      "[epoch 95]  Loss: 0.1641  Accuracy: 41.476 %\n",
      "[epoch 96]  Loss: 0.1615  Accuracy: 42.254 %\n",
      "[epoch 97]  Loss: 0.1620  Accuracy: 42.576 %\n",
      "[epoch 98]  Loss: 0.1612  Accuracy: 42.466 %\n",
      "[epoch 99]  Loss: 0.1622  Accuracy: 42.464 %\n",
      "[epoch 100]  Loss: 0.1612  Accuracy: 42.438 %\n",
      "[epoch 101]  Loss: 0.1624  Accuracy: 42.434 %\n",
      "[epoch 102]  Loss: 0.1598  Accuracy: 43.074 %\n",
      "[epoch 103]  Loss: 0.1606  Accuracy: 42.730 %\n",
      "[epoch 104]  Loss: 0.1605  Accuracy: 42.744 %\n",
      "[epoch 105]  Loss: 0.1592  Accuracy: 43.520 %\n",
      "[epoch 106]  Loss: 0.1622  Accuracy: 42.312 %\n",
      "[epoch 107]  Loss: 0.1643  Accuracy: 41.528 %\n",
      "[epoch 108]  Loss: 0.1612  Accuracy: 42.630 %\n",
      "[epoch 109]  Loss: 0.1607  Accuracy: 42.968 %\n",
      "[epoch 110]  Loss: 0.1596  Accuracy: 43.364 %\n",
      "[epoch 111]  Loss: 0.1601  Accuracy: 43.212 %\n",
      "[epoch 112]  Loss: 0.1601  Accuracy: 43.234 %\n",
      "[epoch 113]  Loss: 0.1609  Accuracy: 42.778 %\n",
      "[epoch 114]  Loss: 0.1629  Accuracy: 42.166 %\n",
      "[epoch 115]  Loss: 0.1598  Accuracy: 43.156 %\n",
      "[epoch 116]  Loss: 0.1592  Accuracy: 43.446 %\n",
      "[epoch 117]  Loss: 0.1601  Accuracy: 42.858 %\n",
      "[epoch 118]  Loss: 0.1586  Accuracy: 43.828 %\n",
      "[epoch 119]  Loss: 0.1588  Accuracy: 43.436 %\n",
      "[epoch 120]  Loss: 0.1601  Accuracy: 42.960 %\n",
      "[epoch 121]  Loss: 0.1588  Accuracy: 43.362 %\n",
      "[epoch 122]  Loss: 0.1598  Accuracy: 43.268 %\n",
      "[epoch 123]  Loss: 0.1606  Accuracy: 42.858 %\n",
      "[epoch 124]  Loss: 0.1608  Accuracy: 42.720 %\n",
      "[epoch 125]  Loss: 0.1603  Accuracy: 43.380 %\n",
      "[epoch 126]  Loss: 0.1603  Accuracy: 43.354 %\n",
      "[epoch 127]  Loss: 0.1594  Accuracy: 43.462 %\n",
      "[epoch 128]  Loss: 0.1631  Accuracy: 42.176 %\n",
      "[epoch 129]  Loss: 0.1608  Accuracy: 42.916 %\n",
      "[epoch 130]  Loss: 0.1586  Accuracy: 43.786 %\n",
      "[epoch 131]  Loss: 0.1587  Accuracy: 43.662 %\n",
      "[epoch 132]  Loss: 0.1588  Accuracy: 44.110 %\n",
      "[epoch 133]  Loss: 0.1590  Accuracy: 43.762 %\n",
      "[epoch 134]  Loss: 0.1573  Accuracy: 44.166 %\n",
      "[epoch 135]  Loss: 0.1617  Accuracy: 42.686 %\n",
      "[epoch 136]  Loss: 0.1595  Accuracy: 43.158 %\n",
      "[epoch 137]  Loss: 0.1575  Accuracy: 44.284 %\n",
      "[epoch 138]  Loss: 0.1661  Accuracy: 41.110 %\n",
      "[epoch 139]  Loss: 0.1618  Accuracy: 42.588 %\n",
      "[epoch 140]  Loss: 0.1577  Accuracy: 44.272 %\n",
      "[epoch 141]  Loss: 0.1621  Accuracy: 42.720 %\n",
      "[epoch 142]  Loss: 0.1596  Accuracy: 43.558 %\n",
      "[epoch 143]  Loss: 0.1594  Accuracy: 43.480 %\n",
      "[epoch 144]  Loss: 0.1611  Accuracy: 43.058 %\n",
      "[epoch 145]  Loss: 0.1656  Accuracy: 41.588 %\n",
      "[epoch 146]  Loss: 0.1651  Accuracy: 40.984 %\n",
      "[epoch 147]  Loss: 0.1623  Accuracy: 42.566 %\n",
      "[epoch 148]  Loss: 0.1652  Accuracy: 41.252 %\n",
      "[epoch 149]  Loss: 0.1584  Accuracy: 43.726 %\n",
      "Finished Training! Training process cost 2057.015333 sec\n"
     ]
    }
   ],
   "source": [
    "#ALL THE CODE IN THIS CELL ARE WRITE BY MY SELF#\n",
    "# Start training : set net to train model\n",
    "net.train()\n",
    "\n",
    "# make two arrays for saving matplotlib data\n",
    "train_loss = []\n",
    "train_accu = []\n",
    "accuracy = 0\n",
    "\n",
    "# get TersorBoard writer object\n",
    "writer = SummaryWriter(log_dir='Training')\n",
    "\n",
    "# Training process\n",
    "timestart = time.time()\n",
    "for epoch in range(0,epoch):\n",
    "    \n",
    "    # initialize loss,total,correct\n",
    "    loss_value = 0.0\n",
    "    total = 0\n",
    "    correct = 0\n",
    "    accuracy = 0\n",
    "    \n",
    "    # do iteration (total number of training images / batch size) times\n",
    "    for i, (inputs, labels) in enumerate(trainingloader, 0):\n",
    "        \n",
    "        # get the input and its label\n",
    "        inputs = inputs.to(device)\n",
    "        labels = labels.to(device)\n",
    "\n",
    "        # make gradients to 0\n",
    "        optimizer.zero_grad()\n",
    "\n",
    "        # forward step\n",
    "        outputs = net(inputs)\n",
    "        \n",
    "        # compute the loss\n",
    "        l = loss(outputs, labels)\n",
    "        \n",
    "        # backward step\n",
    "        l.backward()\n",
    "        \n",
    "        # optimize step\n",
    "        optimizer.step()\n",
    "\n",
    "        # compute loss\n",
    "        loss_value += l.item()\n",
    "        \n",
    "        # save to array in oder to output loss image at the end\n",
    "        train_loss.append(l.item())\n",
    "        \n",
    "        # write to tensorboard file\n",
    "        writer.add_scalars('/GroupA/Loss', {'A3(lr=0.01)': l.item()}, epoch)\n",
    "\n",
    "        \n",
    "        # compute accuracy\n",
    "        _, predicted = torch.max(outputs.data, 1)\n",
    "        total = total + labels.size(0)\n",
    "        correct = correct + (predicted == labels).sum().item()\n",
    "        accuracy = correct / total * 100.0\n",
    "        \n",
    "        # save to array in oder to output accuracy image at the end\n",
    "        train_accu.append(accuracy)\n",
    "        \n",
    "        # write to tensorboard file\n",
    "        writer.add_scalars('/GroupA/Accuracy', {'A3(lr=0.01)': accuracy}, epoch)\n",
    "        \n",
    "\n",
    "    loss_epoch = loss_value / (500000/batch_size)\n",
    "    # output the result of this epoch \n",
    "    print('[epoch %d]  Loss: %.4f  Accuracy: %.3f %%' %(epoch, loss_epoch , accuracy))\n",
    "\n",
    "    \n",
    "# Finish Training\n",
    "result_training_accuracy = accuracy\n",
    "result_training_time = (time.time()-timestart)\n",
    "print('Finished Training! Training process cost %3f sec' %result_training_time)"
   ]
  },
  {
   "cell_type": "code",
   "execution_count": 8,
   "metadata": {},
   "outputs": [
    {
     "data": {
      "text/plain": [
       "[<matplotlib.lines.Line2D at 0x7f9fc4225828>]"
      ]
     },
     "execution_count": 8,
     "metadata": {},
     "output_type": "execute_result"
    },
    {
     "data": {
      "image/png": "[encoded data removed]",
      "text/plain": [
       "<Figure size 432x288 with 1 Axes>"
      ]
     },
     "metadata": {
      "needs_background": "light"
     },
     "output_type": "display_data"
    }
   ],
   "source": [
    "# show the loss\n",
    "plt.plot(np.arange(len(train_loss)), train_loss)"
   ]
  },
  {
   "cell_type": "code",
   "execution_count": 9,
   "metadata": {},
   "outputs": [
    {
     "data": {
      "text/plain": [
       "[<matplotlib.lines.Line2D at 0x7f9fbc05a0f0>]"
      ]
     },
     "execution_count": 9,
     "metadata": {},
     "output_type": "execute_result"
    },
    {
     "data": {
      "image/png": "[encoded data removed]",
      "text/plain": [
       "<Figure size 432x288 with 1 Axes>"
      ]
     },
     "metadata": {
      "needs_background": "light"
     },
     "output_type": "display_data"
    }
   ],
   "source": [
    "# show the accuracy\n",
    "plt.plot(np.arange(len(train_accu)), train_accu)"
   ]
  },
  {
   "cell_type": "code",
   "execution_count": 10,
   "metadata": {},
   "outputs": [],
   "source": [
    "# close the TensorBoard output stream\n",
    "writer.close()"
   ]
  },
  {
   "cell_type": "code",
   "execution_count": 12,
   "metadata": {},
   "outputs": [
    {
     "name": "stdout",
     "output_type": "stream",
     "text": [
      "The accuracy of the network is 44.312 %\n"
     ]
    }
   ],
   "source": [
    "#ALL THE CODE IN THIS CELL ARE WRITE BY MY SELF#\n",
    "# Start testing : set net to train model\n",
    "correct = 0\n",
    "total = 0\n",
    "\n",
    "# deactivate the autograd engine\n",
    "with torch.no_grad():\n",
    "    \n",
    "    # do testing iteration\n",
    "    #for data in testingloader:\n",
    "        \n",
    "        # get the input and its label\n",
    "        #images, labels = data\n",
    "        #images, labels = images.to(device), labels.to(device)\n",
    "    for i, (inputs, labels) in enumerate(trainingloader, 0):\n",
    "        \n",
    "        # get the input and its label\n",
    "        inputs = inputs.to(device)\n",
    "        labels = labels.to(device)\n",
    "        \n",
    "        # forward step\n",
    "        outputs = net(inputs)\n",
    "        \n",
    "        # compute accuracy\n",
    "        _, predicted = torch.max(outputs.data, 1)\n",
    "        total = total + labels.size(0)\n",
    "        correct = correct + (predicted == labels).sum().item()\n",
    "\n",
    "# Finish Testing\n",
    "result_testing_accuracy = correct / total * 100.0\n",
    "print('The accuracy of the network is %.3f %%' % result_testing_accuracy)"
   ]
  },
  {
   "cell_type": "code",
   "execution_count": 13,
   "metadata": {},
   "outputs": [
    {
     "name": "stdout",
     "output_type": "stream",
     "text": [
      "[Configuration]\n",
      "learning rate = 0.010000\n",
      "batch size = 200\n",
      "epoch = 149\n",
      "\n",
      "[Expirement Result]\n",
      "training time = 2057.015333 sec\n",
      "training accuracy = 43.726 %\n",
      "testing accuracy =  44.312 %\n"
     ]
    }
   ],
   "source": [
    "print('[Configuration]')\n",
    "print('learning rate = %3f' % learning_rate )\n",
    "print('batch size = %d' % batch_size )\n",
    "print('epoch = %d' % epoch )\n",
    "print('')\n",
    "print('[Expirement Result]')\n",
    "print('training time = %3f sec' % result_training_time )\n",
    "print('training accuracy = %.3f %%' %result_training_accuracy )\n",
    "print('testing accuracy =  %.3f %%' % (100.0 * correct / total))\n"
   ]
  },
  {
   "cell_type": "markdown",
   "metadata": {},
   "source": [
    "<b>click <a href='../Main.ipynb'>here</a> to return to Main.ipynb"
   ]
  },
  {
   "cell_type": "code",
   "execution_count": null,
   "metadata": {},
   "outputs": [],
   "source": []
  }
 ],
 "metadata": {
  "kernelspec": {
   "display_name": "Python 3",
   "language": "python",
   "name": "python3"
  },
  "language_info": {
   "codemirror_mode": {
    "name": "ipython",
    "version": 3
   },
   "file_extension": ".py",
   "mimetype": "text/x-python",
   "name": "python",
   "nbconvert_exporter": "python",
   "pygments_lexer": "ipython3",
   "version": "3.6.7"
  }
 },
 "nbformat": 4,
 "nbformat_minor": 2
}
