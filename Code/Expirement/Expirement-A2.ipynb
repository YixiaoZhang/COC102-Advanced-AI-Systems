{
 "cells": [
  {
   "cell_type": "markdown",
   "metadata": {},
   "source": [
    "# 18COC102 -  Advanced Artificial Intelligence Systems - Coursework"
   ]
  },
  {
   "cell_type": "markdown",
   "metadata": {},
   "source": [
    "<hr>\n",
    "<p style='color:red'>&nbsp;&nbsp;&nbsp;&nbsp;&nbsp;Experiment A2</p>\n",
    "<hr>\n"
   ]
  },
  {
   "cell_type": "code",
   "execution_count": 1,
   "metadata": {},
   "outputs": [
    {
     "name": "stdout",
     "output_type": "stream",
     "text": [
      "Using matplotlib backend: agg\n",
      "Populating the interactive namespace from numpy and matplotlib\n",
      "CPython 3.6.7\n",
      "IPython 7.2.0\n",
      "\n",
      "numpy 1.15.4\n",
      "torch 0.4.1\n",
      "torchvision 0.2.1\n"
     ]
    }
   ],
   "source": [
    "%pylab\n",
    "%matplotlib inline\n",
    "%load_ext watermark\n",
    "%watermark -v -p numpy,torch,torchvision"
   ]
  },
  {
   "cell_type": "code",
   "execution_count": 2,
   "metadata": {},
   "outputs": [],
   "source": [
    "# import all dependencies\n",
    "import torch\n",
    "import torch.nn as nn\n",
    "import torch.nn.functional as F\n",
    "import torchvision\n",
    "import torchvision.transforms as transforms\n",
    "import torch.optim as optim\n",
    "import time\n",
    "import os\n",
    "from tensorboardX import SummaryWriter"
   ]
  },
  {
   "cell_type": "code",
   "execution_count": 3,
   "metadata": {},
   "outputs": [],
   "source": [
    "#implement the network by myself#\n",
    "\n",
    "# network \n",
    "class AlexNet(nn.Module):    \n",
    "    \n",
    "    def __init__(self):\n",
    "        \n",
    "        super(AlexNet, self).__init__()\n",
    "        self.conv1 = nn.Conv2d(3, 64, 11, stride=4, padding=5)\n",
    "        self.relu1 = nn.ReLU(inplace=True)\n",
    "        self.pool1 = nn.MaxPool2d(2, stride=2)\n",
    "        \n",
    "        self.conv2 = nn.Conv2d(64, 192, 5, padding=2)\n",
    "        self.relu2 = nn.ReLU(inplace=True)\n",
    "        self.pool2 = nn.MaxPool2d(2, stride=2)\n",
    "        \n",
    "        self.conv3 = nn.Conv2d(192, 384, 3, padding=1)\n",
    "        self.relu3 = nn.ReLU(inplace=True)\n",
    "        \n",
    "        self.conv4 = nn.Conv2d(384, 256, 3, padding=1)\n",
    "        self.relu4 = nn.ReLU(inplace=True)\n",
    "        \n",
    "        self.conv5 = nn.Conv2d(256, 256, 3, padding=1)\n",
    "        self.relu5 = nn.ReLU(inplace=True)\n",
    "        self.pool3 = nn.MaxPool2d(2, stride=2)\n",
    "        \n",
    "        self.fc1   = nn.Linear(256, 10)\n",
    "\n",
    "\n",
    "    def forward(self, x):\n",
    "        \n",
    "        x = self.conv1(x)\n",
    "        x = self.relu1(x)\n",
    "        x = self.pool1(x)\n",
    "        \n",
    "        x = self.conv2(x)\n",
    "        x = self.relu2(x)\n",
    "        x = self.pool2(x)\n",
    "        \n",
    "        x = self.conv3(x)\n",
    "        x = self.relu3(x)\n",
    "        \n",
    "        x = self.conv4(x)\n",
    "        x = self.relu4(x)\n",
    "        \n",
    "        x = self.conv5(x)\n",
    "        x = self.relu5(x)\n",
    "        x = self.pool3(x)\n",
    "        \n",
    "        x = x.view(x.size(0), -1)\n",
    "        x = self.fc1(x)\n",
    "        \n",
    "        return x"
   ]
  },
  {
   "cell_type": "code",
   "execution_count": 4,
   "metadata": {},
   "outputs": [],
   "source": [
    "# parameters\n",
    "learning_rate=0.001\n",
    "batch_size=200\n",
    "epoch=150\n",
    "workers=2"
   ]
  },
  {
   "cell_type": "code",
   "execution_count": 5,
   "metadata": {},
   "outputs": [],
   "source": [
    "# set GPU \n",
    "device = torch.device(\"cuda:0\")\n",
    "# set Netwrok\n",
    "net = AlexNet()\n",
    "net = net.to(device)\n",
    "# set optimizer\n",
    "optimizer = optim.Adam(net.parameters(), lr=learning_rate)\n",
    "# set loss function\n",
    "loss = nn.CrossEntropyLoss()"
   ]
  },
  {
   "cell_type": "code",
   "execution_count": 6,
   "metadata": {},
   "outputs": [
    {
     "name": "stdout",
     "output_type": "stream",
     "text": [
      "Files already downloaded and verified\n",
      "Files already downloaded and verified\n"
     ]
    }
   ],
   "source": [
    "# dataloader refer source [2]\n",
    "\n",
    "# load training dataset\n",
    "trainingset = torchvision.datasets.CIFAR10(root='./data', train=True, download=True, \n",
    "                                           transform=transforms.ToTensor())\n",
    "\n",
    "trainingloader = torch.utils.data.DataLoader(trainingset, batch_size=batch_size,shuffle=True, \n",
    "                                             num_workers=workers)\n",
    "# load testing dataset\n",
    "testingset = torchvision.datasets.CIFAR10(root='./data', train=False,\n",
    "                                       download=True, transform=transforms.ToTensor())\n",
    "\n",
    "testingloader = torch.utils.data.DataLoader(testingset, batch_size=batch_size,\n",
    "                                         shuffle=False, num_workers=workers)\n",
    "\n",
    "#end of source [2]\n",
    "#source [2] https://pytorch.org/tutorials/beginner/deep_learning_60min_blitz.html"
   ]
  },
  {
   "cell_type": "code",
   "execution_count": 7,
   "metadata": {},
   "outputs": [
    {
     "name": "stdout",
     "output_type": "stream",
     "text": [
      "[epoch 0]  Loss: 0.1838  Accuracy: 28.772 %\n",
      "[epoch 1]  Loss: 0.1435  Accuracy: 47.428 %\n",
      "[epoch 2]  Loss: 0.1278  Accuracy: 53.794 %\n",
      "[epoch 3]  Loss: 0.1160  Accuracy: 58.110 %\n",
      "[epoch 4]  Loss: 0.1061  Accuracy: 62.024 %\n",
      "[epoch 5]  Loss: 0.0960  Accuracy: 65.560 %\n",
      "[epoch 6]  Loss: 0.0867  Accuracy: 68.966 %\n",
      "[epoch 7]  Loss: 0.0766  Accuracy: 72.806 %\n",
      "[epoch 8]  Loss: 0.0682  Accuracy: 75.866 %\n",
      "[epoch 9]  Loss: 0.0585  Accuracy: 79.304 %\n",
      "[epoch 10]  Loss: 0.0501  Accuracy: 82.172 %\n",
      "[epoch 11]  Loss: 0.0428  Accuracy: 84.828 %\n",
      "[epoch 12]  Loss: 0.0360  Accuracy: 87.444 %\n",
      "[epoch 13]  Loss: 0.0285  Accuracy: 89.998 %\n",
      "[epoch 14]  Loss: 0.0254  Accuracy: 90.924 %\n",
      "[epoch 15]  Loss: 0.0214  Accuracy: 92.470 %\n",
      "[epoch 16]  Loss: 0.0187  Accuracy: 93.390 %\n",
      "[epoch 17]  Loss: 0.0171  Accuracy: 93.978 %\n",
      "[epoch 18]  Loss: 0.0147  Accuracy: 94.880 %\n",
      "[epoch 19]  Loss: 0.0129  Accuracy: 95.576 %\n",
      "[epoch 20]  Loss: 0.0115  Accuracy: 95.926 %\n",
      "[epoch 21]  Loss: 0.0113  Accuracy: 96.044 %\n",
      "[epoch 22]  Loss: 0.0105  Accuracy: 96.380 %\n",
      "[epoch 23]  Loss: 0.0086  Accuracy: 97.028 %\n",
      "[epoch 24]  Loss: 0.0095  Accuracy: 96.716 %\n",
      "[epoch 25]  Loss: 0.0094  Accuracy: 96.752 %\n",
      "[epoch 26]  Loss: 0.0092  Accuracy: 96.860 %\n",
      "[epoch 27]  Loss: 0.0080  Accuracy: 97.300 %\n",
      "[epoch 28]  Loss: 0.0077  Accuracy: 97.356 %\n",
      "[epoch 29]  Loss: 0.0068  Accuracy: 97.660 %\n",
      "[epoch 30]  Loss: 0.0078  Accuracy: 97.324 %\n",
      "[epoch 31]  Loss: 0.0079  Accuracy: 97.260 %\n",
      "[epoch 32]  Loss: 0.0075  Accuracy: 97.402 %\n",
      "[epoch 33]  Loss: 0.0065  Accuracy: 97.870 %\n",
      "[epoch 34]  Loss: 0.0063  Accuracy: 97.826 %\n",
      "[epoch 35]  Loss: 0.0064  Accuracy: 97.842 %\n",
      "[epoch 36]  Loss: 0.0056  Accuracy: 98.140 %\n",
      "[epoch 37]  Loss: 0.0067  Accuracy: 97.740 %\n",
      "[epoch 38]  Loss: 0.0057  Accuracy: 98.046 %\n",
      "[epoch 39]  Loss: 0.0060  Accuracy: 98.020 %\n",
      "[epoch 40]  Loss: 0.0055  Accuracy: 98.102 %\n",
      "[epoch 41]  Loss: 0.0057  Accuracy: 98.050 %\n",
      "[epoch 42]  Loss: 0.0063  Accuracy: 97.872 %\n",
      "[epoch 43]  Loss: 0.0050  Accuracy: 98.302 %\n",
      "[epoch 44]  Loss: 0.0049  Accuracy: 98.346 %\n",
      "[epoch 45]  Loss: 0.0059  Accuracy: 98.008 %\n",
      "[epoch 46]  Loss: 0.0050  Accuracy: 98.316 %\n",
      "[epoch 47]  Loss: 0.0048  Accuracy: 98.444 %\n",
      "[epoch 48]  Loss: 0.0056  Accuracy: 98.128 %\n",
      "[epoch 49]  Loss: 0.0045  Accuracy: 98.480 %\n",
      "[epoch 50]  Loss: 0.0059  Accuracy: 98.074 %\n",
      "[epoch 51]  Loss: 0.0048  Accuracy: 98.344 %\n",
      "[epoch 52]  Loss: 0.0047  Accuracy: 98.424 %\n",
      "[epoch 53]  Loss: 0.0043  Accuracy: 98.622 %\n",
      "[epoch 54]  Loss: 0.0039  Accuracy: 98.714 %\n",
      "[epoch 55]  Loss: 0.0047  Accuracy: 98.494 %\n",
      "[epoch 56]  Loss: 0.0047  Accuracy: 98.446 %\n",
      "[epoch 57]  Loss: 0.0048  Accuracy: 98.436 %\n",
      "[epoch 58]  Loss: 0.0049  Accuracy: 98.388 %\n",
      "[epoch 59]  Loss: 0.0041  Accuracy: 98.624 %\n",
      "[epoch 60]  Loss: 0.0046  Accuracy: 98.474 %\n",
      "[epoch 61]  Loss: 0.0034  Accuracy: 98.876 %\n",
      "[epoch 62]  Loss: 0.0038  Accuracy: 98.746 %\n",
      "[epoch 63]  Loss: 0.0049  Accuracy: 98.418 %\n",
      "[epoch 64]  Loss: 0.0044  Accuracy: 98.556 %\n",
      "[epoch 65]  Loss: 0.0046  Accuracy: 98.536 %\n",
      "[epoch 66]  Loss: 0.0038  Accuracy: 98.718 %\n",
      "[epoch 67]  Loss: 0.0034  Accuracy: 98.898 %\n",
      "[epoch 68]  Loss: 0.0041  Accuracy: 98.608 %\n",
      "[epoch 69]  Loss: 0.0037  Accuracy: 98.806 %\n",
      "[epoch 70]  Loss: 0.0036  Accuracy: 98.834 %\n",
      "[epoch 71]  Loss: 0.0047  Accuracy: 98.406 %\n",
      "[epoch 72]  Loss: 0.0040  Accuracy: 98.744 %\n",
      "[epoch 73]  Loss: 0.0037  Accuracy: 98.910 %\n",
      "[epoch 74]  Loss: 0.0032  Accuracy: 98.954 %\n",
      "[epoch 75]  Loss: 0.0035  Accuracy: 98.824 %\n",
      "[epoch 76]  Loss: 0.0044  Accuracy: 98.558 %\n",
      "[epoch 77]  Loss: 0.0036  Accuracy: 98.814 %\n",
      "[epoch 78]  Loss: 0.0030  Accuracy: 99.016 %\n",
      "[epoch 79]  Loss: 0.0040  Accuracy: 98.726 %\n",
      "[epoch 80]  Loss: 0.0039  Accuracy: 98.726 %\n",
      "[epoch 81]  Loss: 0.0032  Accuracy: 98.978 %\n",
      "[epoch 82]  Loss: 0.0034  Accuracy: 98.968 %\n",
      "[epoch 83]  Loss: 0.0035  Accuracy: 98.898 %\n",
      "[epoch 84]  Loss: 0.0027  Accuracy: 99.076 %\n",
      "[epoch 85]  Loss: 0.0038  Accuracy: 98.766 %\n",
      "[epoch 86]  Loss: 0.0028  Accuracy: 99.062 %\n",
      "[epoch 87]  Loss: 0.0033  Accuracy: 98.948 %\n",
      "[epoch 88]  Loss: 0.0036  Accuracy: 98.848 %\n",
      "[epoch 89]  Loss: 0.0038  Accuracy: 98.846 %\n",
      "[epoch 90]  Loss: 0.0026  Accuracy: 99.182 %\n",
      "[epoch 91]  Loss: 0.0040  Accuracy: 98.744 %\n",
      "[epoch 92]  Loss: 0.0026  Accuracy: 99.184 %\n",
      "[epoch 93]  Loss: 0.0029  Accuracy: 99.066 %\n",
      "[epoch 94]  Loss: 0.0035  Accuracy: 98.942 %\n",
      "[epoch 95]  Loss: 0.0030  Accuracy: 99.084 %\n",
      "[epoch 96]  Loss: 0.0024  Accuracy: 99.284 %\n",
      "[epoch 97]  Loss: 0.0034  Accuracy: 98.962 %\n",
      "[epoch 98]  Loss: 0.0028  Accuracy: 99.120 %\n",
      "[epoch 99]  Loss: 0.0043  Accuracy: 98.632 %\n",
      "[epoch 100]  Loss: 0.0036  Accuracy: 98.970 %\n",
      "[epoch 101]  Loss: 0.0023  Accuracy: 99.280 %\n",
      "[epoch 102]  Loss: 0.0032  Accuracy: 99.056 %\n",
      "[epoch 103]  Loss: 0.0030  Accuracy: 99.066 %\n",
      "[epoch 104]  Loss: 0.0030  Accuracy: 99.076 %\n",
      "[epoch 105]  Loss: 0.0029  Accuracy: 99.082 %\n",
      "[epoch 106]  Loss: 0.0027  Accuracy: 99.192 %\n",
      "[epoch 107]  Loss: 0.0027  Accuracy: 99.102 %\n",
      "[epoch 108]  Loss: 0.0040  Accuracy: 98.778 %\n",
      "[epoch 109]  Loss: 0.0024  Accuracy: 99.270 %\n",
      "[epoch 110]  Loss: 0.0032  Accuracy: 99.000 %\n",
      "[epoch 111]  Loss: 0.0035  Accuracy: 98.936 %\n",
      "[epoch 112]  Loss: 0.0022  Accuracy: 99.330 %\n",
      "[epoch 113]  Loss: 0.0032  Accuracy: 99.052 %\n",
      "[epoch 114]  Loss: 0.0027  Accuracy: 99.140 %\n",
      "[epoch 115]  Loss: 0.0027  Accuracy: 99.196 %\n",
      "[epoch 116]  Loss: 0.0034  Accuracy: 99.028 %\n",
      "[epoch 117]  Loss: 0.0024  Accuracy: 99.308 %\n",
      "[epoch 118]  Loss: 0.0030  Accuracy: 99.112 %\n",
      "[epoch 119]  Loss: 0.0023  Accuracy: 99.274 %\n",
      "[epoch 120]  Loss: 0.0021  Accuracy: 99.320 %\n",
      "[epoch 121]  Loss: 0.0035  Accuracy: 98.968 %\n",
      "[epoch 122]  Loss: 0.0028  Accuracy: 99.126 %\n",
      "[epoch 123]  Loss: 0.0022  Accuracy: 99.336 %\n",
      "[epoch 124]  Loss: 0.0028  Accuracy: 99.166 %\n",
      "[epoch 125]  Loss: 0.0017  Accuracy: 99.502 %\n",
      "[epoch 126]  Loss: 0.0037  Accuracy: 98.882 %\n",
      "[epoch 127]  Loss: 0.0025  Accuracy: 99.246 %\n",
      "[epoch 128]  Loss: 0.0032  Accuracy: 99.038 %\n",
      "[epoch 129]  Loss: 0.0024  Accuracy: 99.286 %\n",
      "[epoch 130]  Loss: 0.0027  Accuracy: 99.168 %\n",
      "[epoch 131]  Loss: 0.0017  Accuracy: 99.484 %\n",
      "[epoch 132]  Loss: 0.0021  Accuracy: 99.386 %\n",
      "[epoch 133]  Loss: 0.0026  Accuracy: 99.230 %\n",
      "[epoch 134]  Loss: 0.0029  Accuracy: 99.088 %\n",
      "[epoch 135]  Loss: 0.0031  Accuracy: 99.142 %\n",
      "[epoch 136]  Loss: 0.0025  Accuracy: 99.290 %\n",
      "[epoch 137]  Loss: 0.0027  Accuracy: 99.166 %\n",
      "[epoch 138]  Loss: 0.0023  Accuracy: 99.328 %\n",
      "[epoch 139]  Loss: 0.0023  Accuracy: 99.334 %\n",
      "[epoch 140]  Loss: 0.0022  Accuracy: 99.352 %\n",
      "[epoch 141]  Loss: 0.0022  Accuracy: 99.376 %\n",
      "[epoch 142]  Loss: 0.0026  Accuracy: 99.312 %\n",
      "[epoch 143]  Loss: 0.0024  Accuracy: 99.270 %\n",
      "[epoch 144]  Loss: 0.0025  Accuracy: 99.294 %\n",
      "[epoch 145]  Loss: 0.0026  Accuracy: 99.234 %\n",
      "[epoch 146]  Loss: 0.0023  Accuracy: 99.364 %\n",
      "[epoch 147]  Loss: 0.0026  Accuracy: 99.268 %\n",
      "[epoch 148]  Loss: 0.0023  Accuracy: 99.264 %\n",
      "[epoch 149]  Loss: 0.0027  Accuracy: 99.192 %\n",
      "Finished Training! Training process cost 1869.082258 sec\n"
     ]
    }
   ],
   "source": [
    "#ALL THE CODE IN THIS CELL ARE WRITE BY MY SELF#\n",
    "# Start training : set net to train model\n",
    "net.train()\n",
    "\n",
    "# make two arrays for saving matplotlib data\n",
    "train_loss = []\n",
    "train_accu = []\n",
    "accuracy = 0\n",
    "\n",
    "# get TersorBoard writer object\n",
    "writer = SummaryWriter(log_dir='Training')\n",
    "\n",
    "# Training process\n",
    "timestart = time.time()\n",
    "for epoch in range(0,epoch):\n",
    "    \n",
    "    # initialize loss,total,correct\n",
    "    loss_value = 0.0\n",
    "    total = 0\n",
    "    correct = 0\n",
    "    accuracy = 0\n",
    "    \n",
    "    # do iteration (total number of training images / batch size) times\n",
    "    for i, (inputs, labels) in enumerate(trainingloader, 0):\n",
    "        \n",
    "        # get the input and its label\n",
    "        inputs = inputs.to(device)\n",
    "        labels = labels.to(device)\n",
    "\n",
    "        # make gradients to 0\n",
    "        optimizer.zero_grad()\n",
    "\n",
    "        # forward step\n",
    "        outputs = net(inputs)\n",
    "        \n",
    "        # compute the loss\n",
    "        l = loss(outputs, labels)\n",
    "        \n",
    "        # backward step\n",
    "        l.backward()\n",
    "        \n",
    "        # optimize step\n",
    "        optimizer.step()\n",
    "\n",
    "        # compute loss\n",
    "        loss_value += l.item()\n",
    "        \n",
    "        # save to array in oder to output loss image at the end\n",
    "        train_loss.append(l.item())\n",
    "        \n",
    "        # write to tensorboard file\n",
    "        writer.add_scalars('/GroupA/Loss', {'A2(lr=0.001)': l.item()}, epoch)\n",
    "\n",
    "        \n",
    "        # compute accuracy\n",
    "        _, predicted = torch.max(outputs.data, 1)\n",
    "        total = total + labels.size(0)\n",
    "        correct = correct + (predicted == labels).sum().item()\n",
    "        accuracy = correct / total * 100.0\n",
    "        \n",
    "        # save to array in oder to output accuracy image at the end\n",
    "        train_accu.append(accuracy)\n",
    "        \n",
    "        # write to tensorboard file\n",
    "        writer.add_scalars('/GroupA/Accuracy', {'A2(lr=0.001)': accuracy}, epoch)\n",
    "        \n",
    "\n",
    "    loss_epoch = loss_value / (500000/batch_size)\n",
    "    # output the result of this epoch \n",
    "    print('[epoch %d]  Loss: %.4f  Accuracy: %.3f %%' %(epoch, loss_epoch , accuracy))\n",
    "\n",
    "    \n",
    "# Finish Training\n",
    "result_training_accuracy = accuracy\n",
    "result_training_time = (time.time()-timestart)\n",
    "print('Finished Training! Training process cost %3f sec' %result_training_time)"
   ]
  },
  {
   "cell_type": "code",
   "execution_count": 8,
   "metadata": {},
   "outputs": [
    {
     "data": {
      "text/plain": [
       "[<matplotlib.lines.Line2D at 0x7f55903ea6a0>]"
      ]
     },
     "execution_count": 8,
     "metadata": {},
     "output_type": "execute_result"
    },
    {
     "data": {
      "image/png": "[encoded data removed]",
      "text/plain": [
       "<Figure size 432x288 with 1 Axes>"
      ]
     },
     "metadata": {
      "needs_background": "light"
     },
     "output_type": "display_data"
    }
   ],
   "source": [
    "# show the loss\n",
    "plt.plot(np.arange(len(train_loss)), train_loss)"
   ]
  },
  {
   "cell_type": "code",
   "execution_count": 9,
   "metadata": {},
   "outputs": [
    {
     "data": {
      "text/plain": [
       "[<matplotlib.lines.Line2D at 0x7f55644751d0>]"
      ]
     },
     "execution_count": 9,
     "metadata": {},
     "output_type": "execute_result"
    },
    {
     "data": {
      "image/png": "[encoded data removed]",
      "text/plain": [
       "<Figure size 432x288 with 1 Axes>"
      ]
     },
     "metadata": {
      "needs_background": "light"
     },
     "output_type": "display_data"
    }
   ],
   "source": [
    "# show the accuracy\n",
    "plt.plot(np.arange(len(train_accu)), train_accu)"
   ]
  },
  {
   "cell_type": "code",
   "execution_count": 10,
   "metadata": {},
   "outputs": [],
   "source": [
    "# close the TensorBoard output stream\n",
    "writer.close()"
   ]
  },
  {
   "cell_type": "code",
   "execution_count": 11,
   "metadata": {},
   "outputs": [
    {
     "name": "stdout",
     "output_type": "stream",
     "text": [
      "The accuracy of the network is 99.452 %\n"
     ]
    }
   ],
   "source": [
    "#ALL THE CODE IN THIS CELL ARE WRITE BY MY SELF#\n",
    "# Start testing : set net to train model\n",
    "correct = 0\n",
    "total = 0\n",
    "\n",
    "# deactivate the autograd engine\n",
    "with torch.no_grad():\n",
    "    \n",
    "    # do testing iteration\n",
    "    #for data in testingloader:\n",
    "        \n",
    "        # get the input and its label\n",
    "        #images, labels = data\n",
    "        #images, labels = images.to(device), labels.to(device)\n",
    "    for i, (inputs, labels) in enumerate(trainingloader, 0):\n",
    "        \n",
    "        # get the input and its label\n",
    "        inputs = inputs.to(device)\n",
    "        labels = labels.to(device)\n",
    "        \n",
    "        # forward step\n",
    "        outputs = net(inputs)\n",
    "        \n",
    "        # compute accuracy\n",
    "        _, predicted = torch.max(outputs.data, 1)\n",
    "        total = total + labels.size(0)\n",
    "        correct = correct + (predicted == labels).sum().item()\n",
    "\n",
    "# Finish Testing\n",
    "result_testing_accuracy = correct / total * 100.0\n",
    "print('The accuracy of the network is %.3f %%' % result_testing_accuracy)"
   ]
  },
  {
   "cell_type": "code",
   "execution_count": 12,
   "metadata": {},
   "outputs": [
    {
     "name": "stdout",
     "output_type": "stream",
     "text": [
      "[Configuration]\n",
      "learning rate = 0.001000\n",
      "batch size = 200\n",
      "epoch = 149\n",
      "\n",
      "[Expirement Result]\n",
      "training time = 1869.082258 sec\n",
      "training accuracy = 99.192 %\n",
      "testing accuracy =  99.452 %\n"
     ]
    }
   ],
   "source": [
    "print('[Configuration]')\n",
    "print('learning rate = %3f' % learning_rate )\n",
    "print('batch size = %d' % batch_size )\n",
    "print('epoch = %d' % epoch )\n",
    "print('')\n",
    "print('[Expirement Result]')\n",
    "print('training time = %3f sec' % result_training_time )\n",
    "print('training accuracy = %.3f %%' %result_training_accuracy )\n",
    "print('testing accuracy =  %.3f %%' % (100.0 * correct / total))\n"
   ]
  },
  {
   "cell_type": "code",
   "execution_count": null,
   "metadata": {},
   "outputs": [],
   "source": []
  }
 ],
 "metadata": {
  "kernelspec": {
   "display_name": "Python 3",
   "language": "python",
   "name": "python3"
  },
  "language_info": {
   "codemirror_mode": {
    "name": "ipython",
    "version": 3
   },
   "file_extension": ".py",
   "mimetype": "text/x-python",
   "name": "python",
   "nbconvert_exporter": "python",
   "pygments_lexer": "ipython3",
   "version": "3.6.7"
  }
 },
 "nbformat": 4,
 "nbformat_minor": 2
}
